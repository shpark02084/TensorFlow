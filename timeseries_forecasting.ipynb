{
  "cells": [
    {
      "cell_type": "markdown",
      "metadata": {
        "id": "view-in-github",
        "colab_type": "text"
      },
      "source": [
        "<a href=\"https://colab.research.google.com/github/shpark02084/TensorFlow/blob/main/timeseries_forecasting.ipynb\" target=\"_parent\"><img src=\"https://colab.research.google.com/assets/colab-badge.svg\" alt=\"Open In Colab\"/></a>"
      ]
    },
    {
      "cell_type": "markdown",
      "metadata": {
        "id": "I0PXCpVcgEal"
      },
      "source": [
        "Try to build a deep learning model to predict the price of Bitcoin\n",
        "\n",
        "\n",
        "\n"
      ]
    },
    {
      "cell_type": "markdown",
      "metadata": {
        "id": "dpcZrd_Sgjxd"
      },
      "source": [
        "Following Steps\n",
        "\n",
        "* Get time series data (the historical price of Bitcoin: 2014-09-17 to 2022-04-29)\n",
        "* Preprocess the data into a time series problem\n",
        "\n",
        "* Build deep learning models with\n",
        "  \n",
        "  * Univariate Time Series\n",
        "  * Multivariate Time Series\n",
        "\n",
        "* Creating a modelling checkpoint\n",
        "* Predict the time series models\n"
      ]
    },
    {
      "cell_type": "code",
      "execution_count": 1,
      "metadata": {
        "colab": {
          "base_uri": "https://localhost:8080/"
        },
        "id": "6OiFtfOoiQm0",
        "outputId": "f182edab-a61b-463f-cd2b-fa2d8ce521cc"
      },
      "outputs": [
        {
          "output_type": "stream",
          "name": "stdout",
          "text": [
            "GPU 0: Tesla T4 (UUID: GPU-05276190-94dc-172e-2222-1337ddd08a0e)\n"
          ]
        }
      ],
      "source": [
        "# Check GPU\n",
        "!nvidia-smi -L"
      ]
    },
    {
      "cell_type": "markdown",
      "metadata": {
        "id": "Ap2tu1_sibrJ"
      },
      "source": [
        "## Get data"
      ]
    },
    {
      "cell_type": "code",
      "execution_count": 2,
      "metadata": {
        "colab": {
          "base_uri": "https://localhost:8080/"
        },
        "id": "YkS5_vUsmZSM",
        "outputId": "402fea63-75a9-4187-8b2e-4817e77cf6f5"
      },
      "outputs": [
        {
          "output_type": "stream",
          "name": "stdout",
          "text": [
            "Requirement already satisfied: yfinance in /usr/local/lib/python3.7/dist-packages (0.1.70)\n",
            "Requirement already satisfied: pandas>=0.24.0 in /usr/local/lib/python3.7/dist-packages (from yfinance) (1.3.5)\n",
            "Requirement already satisfied: requests>=2.26 in /usr/local/lib/python3.7/dist-packages (from yfinance) (2.27.1)\n",
            "Requirement already satisfied: lxml>=4.5.1 in /usr/local/lib/python3.7/dist-packages (from yfinance) (4.8.0)\n",
            "Requirement already satisfied: numpy>=1.15 in /usr/local/lib/python3.7/dist-packages (from yfinance) (1.21.6)\n",
            "Requirement already satisfied: multitasking>=0.0.7 in /usr/local/lib/python3.7/dist-packages (from yfinance) (0.0.10)\n",
            "Requirement already satisfied: python-dateutil>=2.7.3 in /usr/local/lib/python3.7/dist-packages (from pandas>=0.24.0->yfinance) (2.8.2)\n",
            "Requirement already satisfied: pytz>=2017.3 in /usr/local/lib/python3.7/dist-packages (from pandas>=0.24.0->yfinance) (2022.1)\n",
            "Requirement already satisfied: six>=1.5 in /usr/local/lib/python3.7/dist-packages (from python-dateutil>=2.7.3->pandas>=0.24.0->yfinance) (1.15.0)\n",
            "Requirement already satisfied: idna<4,>=2.5 in /usr/local/lib/python3.7/dist-packages (from requests>=2.26->yfinance) (2.10)\n",
            "Requirement already satisfied: charset-normalizer~=2.0.0 in /usr/local/lib/python3.7/dist-packages (from requests>=2.26->yfinance) (2.0.12)\n",
            "Requirement already satisfied: urllib3<1.27,>=1.21.1 in /usr/local/lib/python3.7/dist-packages (from requests>=2.26->yfinance) (1.24.3)\n",
            "Requirement already satisfied: certifi>=2017.4.17 in /usr/local/lib/python3.7/dist-packages (from requests>=2.26->yfinance) (2021.10.8)\n"
          ]
        }
      ],
      "source": [
        "pip install yfinance\n"
      ]
    },
    {
      "cell_type": "code",
      "source": [
        "import yfinance as yf"
      ],
      "metadata": {
        "id": "NjFZDvSWG4nK"
      },
      "execution_count": 3,
      "outputs": []
    },
    {
      "cell_type": "code",
      "execution_count": 4,
      "metadata": {
        "colab": {
          "base_uri": "https://localhost:8080/"
        },
        "id": "p_G3AOQGmd2X",
        "outputId": "08c0fdd2-8c1b-49ec-9991-e1a81456ee64"
      },
      "outputs": [
        {
          "output_type": "stream",
          "name": "stderr",
          "text": [
            "/usr/local/lib/python3.7/dist-packages/statsmodels/tools/_testing.py:19: FutureWarning: pandas.util.testing is deprecated. Use the functions in the public API at pandas.testing instead.\n",
            "  import pandas.util.testing as tm\n"
          ]
        },
        {
          "output_type": "stream",
          "name": "stdout",
          "text": [
            "\r[*********************100%***********************]  1 of 1 completed\n"
          ]
        }
      ],
      "source": [
        "\n",
        "import numpy as np, pandas as pd, matplotlib.pyplot as plt \n",
        "import math\n",
        "from statsmodels.tsa.arima_model import ARIMA \n",
        "from sklearn.metrics import mean_squared_error, mean_absolute_error\n",
        "df = yf.download('BTC-USD')\n"
      ]
    },
    {
      "cell_type": "code",
      "source": [
        "df"
      ],
      "metadata": {
        "colab": {
          "base_uri": "https://localhost:8080/",
          "height": 0
        },
        "id": "foenMOvr9m02",
        "outputId": "b9cb3a74-7ac2-494b-be77-12255d6a2fd8"
      },
      "execution_count": 5,
      "outputs": [
        {
          "output_type": "execute_result",
          "data": {
            "text/plain": [
              "                    Open          High           Low         Close  \\\n",
              "Date                                                                 \n",
              "2014-09-17    465.864014    468.174011    452.421997    457.334015   \n",
              "2014-09-18    456.859985    456.859985    413.104004    424.440002   \n",
              "2014-09-19    424.102997    427.834991    384.532013    394.795990   \n",
              "2014-09-20    394.673004    423.295990    389.882996    408.903992   \n",
              "2014-09-21    408.084991    412.425995    393.181000    398.821014   \n",
              "...                  ...           ...           ...           ...   \n",
              "2022-04-25  39472.605469  40491.753906  38338.378906  40458.308594   \n",
              "2022-04-26  40448.421875  40713.890625  37884.984375  38117.460938   \n",
              "2022-04-27  38120.300781  39397.917969  37997.312500  39241.121094   \n",
              "2022-04-28  39241.429688  40269.464844  38941.421875  39773.828125   \n",
              "2022-04-29  39766.226562  39886.273438  38253.632812  38536.316406   \n",
              "\n",
              "               Adj Close       Volume  \n",
              "Date                                   \n",
              "2014-09-17    457.334015     21056800  \n",
              "2014-09-18    424.440002     34483200  \n",
              "2014-09-19    394.795990     37919700  \n",
              "2014-09-20    408.903992     36863600  \n",
              "2014-09-21    398.821014     26580100  \n",
              "...                  ...          ...  \n",
              "2022-04-25  40458.308594  35445730570  \n",
              "2022-04-26  38117.460938  34569088416  \n",
              "2022-04-27  39241.121094  30981015184  \n",
              "2022-04-28  39773.828125  33903704907  \n",
              "2022-04-29  38536.316406  27877578752  \n",
              "\n",
              "[2782 rows x 6 columns]"
            ],
            "text/html": [
              "\n",
              "  <div id=\"df-87ec5c33-039e-404f-b127-386650ae0b22\">\n",
              "    <div class=\"colab-df-container\">\n",
              "      <div>\n",
              "<style scoped>\n",
              "    .dataframe tbody tr th:only-of-type {\n",
              "        vertical-align: middle;\n",
              "    }\n",
              "\n",
              "    .dataframe tbody tr th {\n",
              "        vertical-align: top;\n",
              "    }\n",
              "\n",
              "    .dataframe thead th {\n",
              "        text-align: right;\n",
              "    }\n",
              "</style>\n",
              "<table border=\"1\" class=\"dataframe\">\n",
              "  <thead>\n",
              "    <tr style=\"text-align: right;\">\n",
              "      <th></th>\n",
              "      <th>Open</th>\n",
              "      <th>High</th>\n",
              "      <th>Low</th>\n",
              "      <th>Close</th>\n",
              "      <th>Adj Close</th>\n",
              "      <th>Volume</th>\n",
              "    </tr>\n",
              "    <tr>\n",
              "      <th>Date</th>\n",
              "      <th></th>\n",
              "      <th></th>\n",
              "      <th></th>\n",
              "      <th></th>\n",
              "      <th></th>\n",
              "      <th></th>\n",
              "    </tr>\n",
              "  </thead>\n",
              "  <tbody>\n",
              "    <tr>\n",
              "      <th>2014-09-17</th>\n",
              "      <td>465.864014</td>\n",
              "      <td>468.174011</td>\n",
              "      <td>452.421997</td>\n",
              "      <td>457.334015</td>\n",
              "      <td>457.334015</td>\n",
              "      <td>21056800</td>\n",
              "    </tr>\n",
              "    <tr>\n",
              "      <th>2014-09-18</th>\n",
              "      <td>456.859985</td>\n",
              "      <td>456.859985</td>\n",
              "      <td>413.104004</td>\n",
              "      <td>424.440002</td>\n",
              "      <td>424.440002</td>\n",
              "      <td>34483200</td>\n",
              "    </tr>\n",
              "    <tr>\n",
              "      <th>2014-09-19</th>\n",
              "      <td>424.102997</td>\n",
              "      <td>427.834991</td>\n",
              "      <td>384.532013</td>\n",
              "      <td>394.795990</td>\n",
              "      <td>394.795990</td>\n",
              "      <td>37919700</td>\n",
              "    </tr>\n",
              "    <tr>\n",
              "      <th>2014-09-20</th>\n",
              "      <td>394.673004</td>\n",
              "      <td>423.295990</td>\n",
              "      <td>389.882996</td>\n",
              "      <td>408.903992</td>\n",
              "      <td>408.903992</td>\n",
              "      <td>36863600</td>\n",
              "    </tr>\n",
              "    <tr>\n",
              "      <th>2014-09-21</th>\n",
              "      <td>408.084991</td>\n",
              "      <td>412.425995</td>\n",
              "      <td>393.181000</td>\n",
              "      <td>398.821014</td>\n",
              "      <td>398.821014</td>\n",
              "      <td>26580100</td>\n",
              "    </tr>\n",
              "    <tr>\n",
              "      <th>...</th>\n",
              "      <td>...</td>\n",
              "      <td>...</td>\n",
              "      <td>...</td>\n",
              "      <td>...</td>\n",
              "      <td>...</td>\n",
              "      <td>...</td>\n",
              "    </tr>\n",
              "    <tr>\n",
              "      <th>2022-04-25</th>\n",
              "      <td>39472.605469</td>\n",
              "      <td>40491.753906</td>\n",
              "      <td>38338.378906</td>\n",
              "      <td>40458.308594</td>\n",
              "      <td>40458.308594</td>\n",
              "      <td>35445730570</td>\n",
              "    </tr>\n",
              "    <tr>\n",
              "      <th>2022-04-26</th>\n",
              "      <td>40448.421875</td>\n",
              "      <td>40713.890625</td>\n",
              "      <td>37884.984375</td>\n",
              "      <td>38117.460938</td>\n",
              "      <td>38117.460938</td>\n",
              "      <td>34569088416</td>\n",
              "    </tr>\n",
              "    <tr>\n",
              "      <th>2022-04-27</th>\n",
              "      <td>38120.300781</td>\n",
              "      <td>39397.917969</td>\n",
              "      <td>37997.312500</td>\n",
              "      <td>39241.121094</td>\n",
              "      <td>39241.121094</td>\n",
              "      <td>30981015184</td>\n",
              "    </tr>\n",
              "    <tr>\n",
              "      <th>2022-04-28</th>\n",
              "      <td>39241.429688</td>\n",
              "      <td>40269.464844</td>\n",
              "      <td>38941.421875</td>\n",
              "      <td>39773.828125</td>\n",
              "      <td>39773.828125</td>\n",
              "      <td>33903704907</td>\n",
              "    </tr>\n",
              "    <tr>\n",
              "      <th>2022-04-29</th>\n",
              "      <td>39766.226562</td>\n",
              "      <td>39886.273438</td>\n",
              "      <td>38253.632812</td>\n",
              "      <td>38536.316406</td>\n",
              "      <td>38536.316406</td>\n",
              "      <td>27877578752</td>\n",
              "    </tr>\n",
              "  </tbody>\n",
              "</table>\n",
              "<p>2782 rows × 6 columns</p>\n",
              "</div>\n",
              "      <button class=\"colab-df-convert\" onclick=\"convertToInteractive('df-87ec5c33-039e-404f-b127-386650ae0b22')\"\n",
              "              title=\"Convert this dataframe to an interactive table.\"\n",
              "              style=\"display:none;\">\n",
              "        \n",
              "  <svg xmlns=\"http://www.w3.org/2000/svg\" height=\"24px\"viewBox=\"0 0 24 24\"\n",
              "       width=\"24px\">\n",
              "    <path d=\"M0 0h24v24H0V0z\" fill=\"none\"/>\n",
              "    <path d=\"M18.56 5.44l.94 2.06.94-2.06 2.06-.94-2.06-.94-.94-2.06-.94 2.06-2.06.94zm-11 1L8.5 8.5l.94-2.06 2.06-.94-2.06-.94L8.5 2.5l-.94 2.06-2.06.94zm10 10l.94 2.06.94-2.06 2.06-.94-2.06-.94-.94-2.06-.94 2.06-2.06.94z\"/><path d=\"M17.41 7.96l-1.37-1.37c-.4-.4-.92-.59-1.43-.59-.52 0-1.04.2-1.43.59L10.3 9.45l-7.72 7.72c-.78.78-.78 2.05 0 2.83L4 21.41c.39.39.9.59 1.41.59.51 0 1.02-.2 1.41-.59l7.78-7.78 2.81-2.81c.8-.78.8-2.07 0-2.86zM5.41 20L4 18.59l7.72-7.72 1.47 1.35L5.41 20z\"/>\n",
              "  </svg>\n",
              "      </button>\n",
              "      \n",
              "  <style>\n",
              "    .colab-df-container {\n",
              "      display:flex;\n",
              "      flex-wrap:wrap;\n",
              "      gap: 12px;\n",
              "    }\n",
              "\n",
              "    .colab-df-convert {\n",
              "      background-color: #E8F0FE;\n",
              "      border: none;\n",
              "      border-radius: 50%;\n",
              "      cursor: pointer;\n",
              "      display: none;\n",
              "      fill: #1967D2;\n",
              "      height: 32px;\n",
              "      padding: 0 0 0 0;\n",
              "      width: 32px;\n",
              "    }\n",
              "\n",
              "    .colab-df-convert:hover {\n",
              "      background-color: #E2EBFA;\n",
              "      box-shadow: 0px 1px 2px rgba(60, 64, 67, 0.3), 0px 1px 3px 1px rgba(60, 64, 67, 0.15);\n",
              "      fill: #174EA6;\n",
              "    }\n",
              "\n",
              "    [theme=dark] .colab-df-convert {\n",
              "      background-color: #3B4455;\n",
              "      fill: #D2E3FC;\n",
              "    }\n",
              "\n",
              "    [theme=dark] .colab-df-convert:hover {\n",
              "      background-color: #434B5C;\n",
              "      box-shadow: 0px 1px 3px 1px rgba(0, 0, 0, 0.15);\n",
              "      filter: drop-shadow(0px 1px 2px rgba(0, 0, 0, 0.3));\n",
              "      fill: #FFFFFF;\n",
              "    }\n",
              "  </style>\n",
              "\n",
              "      <script>\n",
              "        const buttonEl =\n",
              "          document.querySelector('#df-87ec5c33-039e-404f-b127-386650ae0b22 button.colab-df-convert');\n",
              "        buttonEl.style.display =\n",
              "          google.colab.kernel.accessAllowed ? 'block' : 'none';\n",
              "\n",
              "        async function convertToInteractive(key) {\n",
              "          const element = document.querySelector('#df-87ec5c33-039e-404f-b127-386650ae0b22');\n",
              "          const dataTable =\n",
              "            await google.colab.kernel.invokeFunction('convertToInteractive',\n",
              "                                                     [key], {});\n",
              "          if (!dataTable) return;\n",
              "\n",
              "          const docLinkHtml = 'Like what you see? Visit the ' +\n",
              "            '<a target=\"_blank\" href=https://colab.research.google.com/notebooks/data_table.ipynb>data table notebook</a>'\n",
              "            + ' to learn more about interactive tables.';\n",
              "          element.innerHTML = '';\n",
              "          dataTable['output_type'] = 'display_data';\n",
              "          await google.colab.output.renderOutput(dataTable, element);\n",
              "          const docLink = document.createElement('div');\n",
              "          docLink.innerHTML = docLinkHtml;\n",
              "          element.appendChild(docLink);\n",
              "        }\n",
              "      </script>\n",
              "    </div>\n",
              "  </div>\n",
              "  "
            ]
          },
          "metadata": {},
          "execution_count": 5
        }
      ]
    },
    {
      "cell_type": "code",
      "source": [
        "# Only extract closing price for each day\n",
        "bitcoin_prices = pd.DataFrame(df[\"Close\"]).rename(columns={\"Close\": \"Price\"})\n",
        "bitcoin_prices"
      ],
      "metadata": {
        "colab": {
          "base_uri": "https://localhost:8080/",
          "height": 0
        },
        "id": "WgvnwBYEHTfd",
        "outputId": "d726436a-02e7-4b8f-f436-6ea4b1b64261"
      },
      "execution_count": 6,
      "outputs": [
        {
          "output_type": "execute_result",
          "data": {
            "text/plain": [
              "                   Price\n",
              "Date                    \n",
              "2014-09-17    457.334015\n",
              "2014-09-18    424.440002\n",
              "2014-09-19    394.795990\n",
              "2014-09-20    408.903992\n",
              "2014-09-21    398.821014\n",
              "...                  ...\n",
              "2022-04-25  40458.308594\n",
              "2022-04-26  38117.460938\n",
              "2022-04-27  39241.121094\n",
              "2022-04-28  39773.828125\n",
              "2022-04-29  38536.316406\n",
              "\n",
              "[2782 rows x 1 columns]"
            ],
            "text/html": [
              "\n",
              "  <div id=\"df-43dce3c6-4b23-43f7-b104-3b754f0c71fe\">\n",
              "    <div class=\"colab-df-container\">\n",
              "      <div>\n",
              "<style scoped>\n",
              "    .dataframe tbody tr th:only-of-type {\n",
              "        vertical-align: middle;\n",
              "    }\n",
              "\n",
              "    .dataframe tbody tr th {\n",
              "        vertical-align: top;\n",
              "    }\n",
              "\n",
              "    .dataframe thead th {\n",
              "        text-align: right;\n",
              "    }\n",
              "</style>\n",
              "<table border=\"1\" class=\"dataframe\">\n",
              "  <thead>\n",
              "    <tr style=\"text-align: right;\">\n",
              "      <th></th>\n",
              "      <th>Price</th>\n",
              "    </tr>\n",
              "    <tr>\n",
              "      <th>Date</th>\n",
              "      <th></th>\n",
              "    </tr>\n",
              "  </thead>\n",
              "  <tbody>\n",
              "    <tr>\n",
              "      <th>2014-09-17</th>\n",
              "      <td>457.334015</td>\n",
              "    </tr>\n",
              "    <tr>\n",
              "      <th>2014-09-18</th>\n",
              "      <td>424.440002</td>\n",
              "    </tr>\n",
              "    <tr>\n",
              "      <th>2014-09-19</th>\n",
              "      <td>394.795990</td>\n",
              "    </tr>\n",
              "    <tr>\n",
              "      <th>2014-09-20</th>\n",
              "      <td>408.903992</td>\n",
              "    </tr>\n",
              "    <tr>\n",
              "      <th>2014-09-21</th>\n",
              "      <td>398.821014</td>\n",
              "    </tr>\n",
              "    <tr>\n",
              "      <th>...</th>\n",
              "      <td>...</td>\n",
              "    </tr>\n",
              "    <tr>\n",
              "      <th>2022-04-25</th>\n",
              "      <td>40458.308594</td>\n",
              "    </tr>\n",
              "    <tr>\n",
              "      <th>2022-04-26</th>\n",
              "      <td>38117.460938</td>\n",
              "    </tr>\n",
              "    <tr>\n",
              "      <th>2022-04-27</th>\n",
              "      <td>39241.121094</td>\n",
              "    </tr>\n",
              "    <tr>\n",
              "      <th>2022-04-28</th>\n",
              "      <td>39773.828125</td>\n",
              "    </tr>\n",
              "    <tr>\n",
              "      <th>2022-04-29</th>\n",
              "      <td>38536.316406</td>\n",
              "    </tr>\n",
              "  </tbody>\n",
              "</table>\n",
              "<p>2782 rows × 1 columns</p>\n",
              "</div>\n",
              "      <button class=\"colab-df-convert\" onclick=\"convertToInteractive('df-43dce3c6-4b23-43f7-b104-3b754f0c71fe')\"\n",
              "              title=\"Convert this dataframe to an interactive table.\"\n",
              "              style=\"display:none;\">\n",
              "        \n",
              "  <svg xmlns=\"http://www.w3.org/2000/svg\" height=\"24px\"viewBox=\"0 0 24 24\"\n",
              "       width=\"24px\">\n",
              "    <path d=\"M0 0h24v24H0V0z\" fill=\"none\"/>\n",
              "    <path d=\"M18.56 5.44l.94 2.06.94-2.06 2.06-.94-2.06-.94-.94-2.06-.94 2.06-2.06.94zm-11 1L8.5 8.5l.94-2.06 2.06-.94-2.06-.94L8.5 2.5l-.94 2.06-2.06.94zm10 10l.94 2.06.94-2.06 2.06-.94-2.06-.94-.94-2.06-.94 2.06-2.06.94z\"/><path d=\"M17.41 7.96l-1.37-1.37c-.4-.4-.92-.59-1.43-.59-.52 0-1.04.2-1.43.59L10.3 9.45l-7.72 7.72c-.78.78-.78 2.05 0 2.83L4 21.41c.39.39.9.59 1.41.59.51 0 1.02-.2 1.41-.59l7.78-7.78 2.81-2.81c.8-.78.8-2.07 0-2.86zM5.41 20L4 18.59l7.72-7.72 1.47 1.35L5.41 20z\"/>\n",
              "  </svg>\n",
              "      </button>\n",
              "      \n",
              "  <style>\n",
              "    .colab-df-container {\n",
              "      display:flex;\n",
              "      flex-wrap:wrap;\n",
              "      gap: 12px;\n",
              "    }\n",
              "\n",
              "    .colab-df-convert {\n",
              "      background-color: #E8F0FE;\n",
              "      border: none;\n",
              "      border-radius: 50%;\n",
              "      cursor: pointer;\n",
              "      display: none;\n",
              "      fill: #1967D2;\n",
              "      height: 32px;\n",
              "      padding: 0 0 0 0;\n",
              "      width: 32px;\n",
              "    }\n",
              "\n",
              "    .colab-df-convert:hover {\n",
              "      background-color: #E2EBFA;\n",
              "      box-shadow: 0px 1px 2px rgba(60, 64, 67, 0.3), 0px 1px 3px 1px rgba(60, 64, 67, 0.15);\n",
              "      fill: #174EA6;\n",
              "    }\n",
              "\n",
              "    [theme=dark] .colab-df-convert {\n",
              "      background-color: #3B4455;\n",
              "      fill: #D2E3FC;\n",
              "    }\n",
              "\n",
              "    [theme=dark] .colab-df-convert:hover {\n",
              "      background-color: #434B5C;\n",
              "      box-shadow: 0px 1px 3px 1px rgba(0, 0, 0, 0.15);\n",
              "      filter: drop-shadow(0px 1px 2px rgba(0, 0, 0, 0.3));\n",
              "      fill: #FFFFFF;\n",
              "    }\n",
              "  </style>\n",
              "\n",
              "      <script>\n",
              "        const buttonEl =\n",
              "          document.querySelector('#df-43dce3c6-4b23-43f7-b104-3b754f0c71fe button.colab-df-convert');\n",
              "        buttonEl.style.display =\n",
              "          google.colab.kernel.accessAllowed ? 'block' : 'none';\n",
              "\n",
              "        async function convertToInteractive(key) {\n",
              "          const element = document.querySelector('#df-43dce3c6-4b23-43f7-b104-3b754f0c71fe');\n",
              "          const dataTable =\n",
              "            await google.colab.kernel.invokeFunction('convertToInteractive',\n",
              "                                                     [key], {});\n",
              "          if (!dataTable) return;\n",
              "\n",
              "          const docLinkHtml = 'Like what you see? Visit the ' +\n",
              "            '<a target=\"_blank\" href=https://colab.research.google.com/notebooks/data_table.ipynb>data table notebook</a>'\n",
              "            + ' to learn more about interactive tables.';\n",
              "          element.innerHTML = '';\n",
              "          dataTable['output_type'] = 'display_data';\n",
              "          await google.colab.output.renderOutput(dataTable, element);\n",
              "          const docLink = document.createElement('div');\n",
              "          docLink.innerHTML = docLinkHtml;\n",
              "          element.appendChild(docLink);\n",
              "        }\n",
              "      </script>\n",
              "    </div>\n",
              "  </div>\n",
              "  "
            ]
          },
          "metadata": {},
          "execution_count": 6
        }
      ]
    },
    {
      "cell_type": "code",
      "source": [
        "# Visualize \n",
        "bitcoin_prices.plot(figsize=(10, 7))\n",
        "plt.ylabel(\"BTC Price\")\n",
        "plt.title(\"Price of Bitcoin from 2014-09-17 to 2022-04-29\", fontsize=16)\n",
        "plt.legend(fontsize=14);"
      ],
      "metadata": {
        "colab": {
          "base_uri": "https://localhost:8080/",
          "height": 0
        },
        "id": "yCst4_aIHZM0",
        "outputId": "6772b72f-72fd-4648-ca01-1820271e8a31"
      },
      "execution_count": 7,
      "outputs": [
        {
          "output_type": "display_data",
          "data": {
            "text/plain": [
              "<Figure size 720x504 with 1 Axes>"
            ],
            "image/png": "[encoded data removed]"
          },
          "metadata": {
            "needs_background": "light"
          }
        }
      ]
    },
    {
      "cell_type": "code",
      "source": [
        "# 80% Train, 20% Test\n",
        "split_size = int(0.8 *len(df))\n",
        "training_data = list(df[:split_size]['Adj Close'])\n",
        "testing_data = list(df[split_size:]['Adj Close'])\n",
        "len(training_data), len(testing_data)"
      ],
      "metadata": {
        "colab": {
          "base_uri": "https://localhost:8080/"
        },
        "id": "p8SRIy8gHEfU",
        "outputId": "e42232b0-86cc-43a3-9a11-7a0a44fde41b"
      },
      "execution_count": 8,
      "outputs": [
        {
          "output_type": "execute_result",
          "data": {
            "text/plain": [
              "(2225, 557)"
            ]
          },
          "metadata": {},
          "execution_count": 8
        }
      ]
    },
    {
      "cell_type": "code",
      "execution_count": 9,
      "metadata": {
        "colab": {
          "base_uri": "https://localhost:8080/",
          "height": 0
        },
        "id": "CgXAe35LoKKM",
        "outputId": "49376026-585e-4563-e433-2a6e0bd1eba3"
      },
      "outputs": [
        {
          "output_type": "display_data",
          "data": {
            "text/plain": [
              "<Figure size 720x504 with 1 Axes>"
            ],
            "image/png": "[encoded data removed]"
          },
          "metadata": {
            "needs_background": "light"
          }
        }
      ],
      "source": [
        "# Visualize \n",
        "import matplotlib.pyplot as plt\n",
        "bitcoin_prices.plot(figsize=(10, 7))\n",
        "plt.ylabel(\"BTC Price\")\n",
        "plt.title(\"Price of Bitcoin from 2013-04-29 to 2021-07-06\", fontsize=16)\n",
        "plt.legend(fontsize=14);"
      ]
    },
    {
      "cell_type": "code",
      "source": [
        "timesteps = df.index.to_numpy()\n",
        "prices = df[\"Adj Close\"].to_numpy()\n",
        "timesteps[:10], prices[:10]"
      ],
      "metadata": {
        "colab": {
          "base_uri": "https://localhost:8080/"
        },
        "id": "lYhRlaNgJX_X",
        "outputId": "13f5de21-b950-4dda-d15a-47356a5d84a6"
      },
      "execution_count": 10,
      "outputs": [
        {
          "output_type": "execute_result",
          "data": {
            "text/plain": [
              "(array(['2014-09-17T00:00:00.000000000', '2014-09-18T00:00:00.000000000',\n",
              "        '2014-09-19T00:00:00.000000000', '2014-09-20T00:00:00.000000000',\n",
              "        '2014-09-21T00:00:00.000000000', '2014-09-22T00:00:00.000000000',\n",
              "        '2014-09-23T00:00:00.000000000', '2014-09-24T00:00:00.000000000',\n",
              "        '2014-09-25T00:00:00.000000000', '2014-09-26T00:00:00.000000000'],\n",
              "       dtype='datetime64[ns]'),\n",
              " array([457.33401489, 424.44000244, 394.79598999, 408.9039917 ,\n",
              "        398.8210144 , 402.15200806, 435.79098511, 423.20498657,\n",
              "        411.57400513, 404.42498779]))"
            ]
          },
          "metadata": {},
          "execution_count": 10
        }
      ]
    },
    {
      "cell_type": "markdown",
      "metadata": {
        "id": "YzrxcKM-o_pv"
      },
      "source": [
        "## Split data"
      ]
    },
    {
      "cell_type": "code",
      "execution_count": 11,
      "metadata": {
        "colab": {
          "base_uri": "https://localhost:8080/"
        },
        "id": "7Z-U-2uZoz1u",
        "outputId": "a657f88b-2062-4a39-d279-0c6e492fc34e"
      },
      "outputs": [
        {
          "output_type": "execute_result",
          "data": {
            "text/plain": [
              "(2225, 557, 2225, 557)"
            ]
          },
          "metadata": {},
          "execution_count": 11
        }
      ],
      "source": [
        "# 80% Train, 20% Test\n",
        "split_size = int(0.8 * len(prices))\n",
        "\n",
        "X_train, y_train = timesteps[:split_size], prices[:split_size]\n",
        "\n",
        "X_test, y_test = timesteps[split_size:], prices[split_size:]\n",
        "\n",
        "len(X_train), len(X_test), len(y_train), len(y_test)"
      ]
    },
    {
      "cell_type": "code",
      "execution_count": 12,
      "metadata": {
        "colab": {
          "base_uri": "https://localhost:8080/",
          "height": 0
        },
        "id": "5K_zVUy9o9Au",
        "outputId": "725c0117-248f-4875-e86e-3f2aaaff8fd1"
      },
      "outputs": [
        {
          "output_type": "display_data",
          "data": {
            "text/plain": [
              "<Figure size 720x504 with 1 Axes>"
            ],
            "image/png": "[encoded data removed]"
          },
          "metadata": {
            "needs_background": "light"
          }
        }
      ],
      "source": [
        "# Plot split data\n",
        "plt.figure(figsize=(10, 7))\n",
        "plt.scatter(X_train, y_train, s=5, label=\"Train data\")\n",
        "plt.scatter(X_test, y_test, s=5, label=\"Test data\")\n",
        "plt.xlabel(\"Date\")\n",
        "plt.ylabel(\"BTC Price\")\n",
        "plt.legend(fontsize=14)\n",
        "plt.show();"
      ]
    },
    {
      "cell_type": "code",
      "execution_count": 13,
      "metadata": {
        "id": "1MLz8mCDpGpW"
      },
      "outputs": [],
      "source": [
        "# Create a function to plot time series data\n",
        "def plot_time_series(timesteps, values, format='.', start=0, end=None, label=None):\n",
        "\n",
        "  # Plot the series\n",
        "  plt.plot(timesteps[start:end], values[start:end], format, label=label)\n",
        "  plt.xlabel(\"Time\")\n",
        "  plt.ylabel(\"BTC Price\")\n",
        "  if label:\n",
        "    plt.legend(fontsize=14)\n",
        "  plt.grid(True)"
      ]
    },
    {
      "cell_type": "markdown",
      "metadata": {
        "id": "OGSnwAPmqrvv"
      },
      "source": [
        "## Evaluate predictions (Error)\n",
        "\n",
        "\n",
        "\n",
        "\n"
      ]
    },
    {
      "cell_type": "code",
      "execution_count": 14,
      "metadata": {
        "id": "LTlCNH0xpjhj"
      },
      "outputs": [],
      "source": [
        "import tensorflow as tf\n",
        "import numpy as np\n"
      ]
    },
    {
      "cell_type": "code",
      "execution_count": 15,
      "metadata": {
        "id": "JuXYiSmmq137"
      },
      "outputs": [],
      "source": [
        "def mean_absolute_scaled_error(y_true, y_pred):\n",
        " \n",
        "  mae = tf.reduce_mean(tf.abs(y_true - y_pred))\n",
        "\n",
        "  mae_naive_no_season = tf.reduce_mean(tf.abs(y_true[1:] - y_true[:-1])) \n",
        "\n",
        "  return mae / mae_naive_no_season"
      ]
    },
    {
      "cell_type": "code",
      "execution_count": 16,
      "metadata": {
        "id": "iLQu5H7s15js"
      },
      "outputs": [],
      "source": [
        "def evaluate_preds(y_true, y_pred):\n",
        "  y_true = tf.cast(y_true, dtype=tf.float32)\n",
        "  y_pred = tf.cast(y_pred, dtype=tf.float32)\n",
        "\n",
        "  mae = tf.keras.metrics.mean_absolute_error(y_true, y_pred)\n",
        "  mse = tf.keras.metrics.mean_squared_error(y_true, y_pred)\n",
        "  rmse = tf.sqrt(mse)\n",
        "  mape = tf.keras.metrics.mean_absolute_percentage_error(y_true, y_pred)\n",
        "  mase = mean_absolute_scaled_error(y_true, y_pred)\n",
        "\n",
        "  if mae.ndim > 0: \n",
        "    mae = tf.reduce_mean(mae)\n",
        "    mse = tf.reduce_mean(mse)\n",
        "    rmse = tf.reduce_mean(rmse)\n",
        "    mape = tf.reduce_mean(mape)\n",
        "    mase = tf.reduce_mean(mase)\n",
        "\n",
        "  return {\"mae\": mae.numpy(),\n",
        "          \"mse\": mse.numpy(),\n",
        "          \"rmse\": rmse.numpy(),\n",
        "          \"mape\": mape.numpy(),\n",
        "          \"mase\": mase.numpy()}"
      ]
    },
    {
      "cell_type": "markdown",
      "source": [
        "## Make a Model checkpoint"
      ],
      "metadata": {
        "id": "6qr8vtlN_ra1"
      }
    },
    {
      "cell_type": "code",
      "source": [
        "import os\n",
        "\n",
        "def create_model_checkpoint(model_name, save_path=\"model_experiments\"):\n",
        "  return tf.keras.callbacks.ModelCheckpoint(filepath=os.path.join(save_path, model_name), \n",
        "                                            verbose=0,\n",
        "                                            save_best_only=True) "
      ],
      "metadata": {
        "id": "Zx312zRP_uYr"
      },
      "execution_count": 17,
      "outputs": []
    },
    {
      "cell_type": "markdown",
      "source": [
        "## Base Model (ARIMA)\n"
      ],
      "metadata": {
        "id": "x072nmwauiRL"
      }
    },
    {
      "cell_type": "code",
      "source": [
        "import numpy as np, pandas as pd, matplotlib.pyplot as plt \n",
        "import math\n",
        "from statsmodels.tsa.arima_model import ARIMA \n",
        "from sklearn.metrics import mean_squared_error, mean_absolute_error \n"
      ],
      "metadata": {
        "id": "_7QpKCNjwI7D"
      },
      "execution_count": 18,
      "outputs": []
    },
    {
      "cell_type": "code",
      "source": [
        "#ARIMA Model\n",
        "model_0_preds =[]\n",
        "n = len(testing_data)\n",
        "for i in range(n):\n",
        "  model_0 = ARIMA(training_data, order=(4,1,0))\n",
        "  model_0_fit = model_0.fit()\n",
        "  output = model_0_fit.forecast()\n",
        "  yhat = list(output[0])[0]\n",
        "  model_0_preds.append(yhat)\n",
        "  actual_test_value = testing_data[i] \n",
        "  training_data.append(actual_test_value)\n",
        "\n",
        "plt.figure(figsize=(10, 7))\n",
        "\n",
        "plot_time_series(timesteps=X_test, values=testing_data,  label=\"Test data\")\n",
        "plot_time_series(timesteps=X_test, values=model_0_preds, format=\"-\", label=\"Naive forecast\");"
      ],
      "metadata": {
        "id": "Vt-duW62wx3Y",
        "colab": {
          "base_uri": "https://localhost:8080/",
          "height": 0
        },
        "outputId": "8cbc6a36-2510-4d6e-d685-e8f208f62d82"
      },
      "execution_count": 19,
      "outputs": [
        {
          "output_type": "display_data",
          "data": {
            "text/plain": [
              "<Figure size 720x504 with 1 Axes>"
            ],
            "image/png": "[encoded data removed]"
          },
          "metadata": {
            "needs_background": "light"
          }
        }
      ]
    },
    {
      "cell_type": "code",
      "source": [
        "ARIMA_results = evaluate_preds(y_true=testing_data,\n",
        "                               y_pred=model_0_preds)\n",
        "ARIMA_results"
      ],
      "metadata": {
        "colab": {
          "base_uri": "https://localhost:8080/"
        },
        "id": "xEr35mn2MB0w",
        "outputId": "d4dd6105-690f-4bc1-96c1-4f60e8678de7"
      },
      "execution_count": 20,
      "outputs": [
        {
          "output_type": "execute_result",
          "data": {
            "text/plain": [
              "{'mae': 1210.6715,\n",
              " 'mape': 2.8952045,\n",
              " 'mase': 1.0055407,\n",
              " 'mse': 2868471.8,\n",
              " 'rmse': 1693.6564}"
            ]
          },
          "metadata": {},
          "execution_count": 20
        }
      ]
    },
    {
      "cell_type": "markdown",
      "source": [
        "# Univariate"
      ],
      "metadata": {
        "id": "o2hrHKvIQp3l"
      }
    },
    {
      "cell_type": "markdown",
      "source": [
        "## Model 1 (window 7, horizon 1)"
      ],
      "metadata": {
        "id": "SkfB1y_t_zYj"
      }
    },
    {
      "cell_type": "code",
      "execution_count": 21,
      "metadata": {
        "id": "Gc4pwfjfq8Mx"
      },
      "outputs": [],
      "source": [
        "# Window for one week for predicting price of next day\n",
        "HORIZON = 1 \n",
        "WINDOW_SIZE = 7"
      ]
    },
    {
      "cell_type": "code",
      "execution_count": 22,
      "metadata": {
        "id": "UjBVi_uFvW44"
      },
      "outputs": [],
      "source": [
        "# Create function to label windowed data\n",
        "def get_labelled_windows(x, horizon=1):\n",
        "\n",
        "  return x[:, :-horizon], x[:, -horizon:]"
      ]
    },
    {
      "cell_type": "code",
      "execution_count": 23,
      "metadata": {
        "id": "fwMFBnJMveT_",
        "colab": {
          "base_uri": "https://localhost:8080/"
        },
        "outputId": "8a490469-fc53-486e-efa9-d53ebeef0938"
      },
      "outputs": [
        {
          "output_type": "stream",
          "name": "stdout",
          "text": [
            "Window: [1 2 3 4 5 6 7] -> Label: 8\n"
          ]
        }
      ],
      "source": [
        "# Test out the window labelling function\n",
        "test_window, test_label = get_labelled_windows(tf.expand_dims(tf.range(8)+1, axis=0), horizon=HORIZON)\n",
        "print(f\"Window: {tf.squeeze(test_window).numpy()} -> Label: {tf.squeeze(test_label).numpy()}\")"
      ]
    },
    {
      "cell_type": "code",
      "execution_count": 24,
      "metadata": {
        "id": "Ppa5inXevgEO"
      },
      "outputs": [],
      "source": [
        "# Create function to view NumPy arrays as windows \n",
        "def make_windows(x, window_size=7, horizon=1):\n",
        "  \n",
        "  # 1. Create a window of specific window_size (add the horizon on the end for later labelling)\n",
        "  window_step = np.expand_dims(np.arange(window_size+horizon), axis=0)\n",
        "  # print(f\"Window step:\\n {window_step}\")\n",
        "\n",
        "  # 2. Create a 2D array of multiple window steps (minus 1 to account for 0 indexing)\n",
        "  window_indexes = window_step + np.expand_dims(np.arange(len(x)-(window_size+horizon-1)), axis=0).T # create 2D array of windows of size window_size\n",
        "  # print(f\"Window indexes:\\n {window_indexes[:3], window_indexes[-3:], window_indexes.shape}\")\n",
        "\n",
        "  # 3. Index on the target array (time series) with 2D array of multiple window steps\n",
        "  windowed_array = x[window_indexes]\n",
        "\n",
        "  # 4. Get the labelled windows\n",
        "  windows, labels = get_labelled_windows(windowed_array, horizon=horizon)\n",
        "\n",
        "  return windows, labels"
      ]
    },
    {
      "cell_type": "code",
      "execution_count": 25,
      "metadata": {
        "id": "A7GBHcvk9wt6",
        "colab": {
          "base_uri": "https://localhost:8080/"
        },
        "outputId": "0c19d7f7-aae1-469a-94dc-dfd9e2566e27"
      },
      "outputs": [
        {
          "output_type": "execute_result",
          "data": {
            "text/plain": [
              "(2775, 2775)"
            ]
          },
          "metadata": {},
          "execution_count": 25
        }
      ],
      "source": [
        "full_windows, full_labels = make_windows(prices, window_size=WINDOW_SIZE, horizon=HORIZON)\n",
        "len(full_windows), len(full_labels)"
      ]
    },
    {
      "cell_type": "code",
      "execution_count": 26,
      "metadata": {
        "id": "Z-EtDm2WvyDg"
      },
      "outputs": [],
      "source": [
        "# Make the train/test splits\n",
        "def make_train_test_splits(windows, labels, test_split=0.2):\n",
        "\n",
        "  split_size = int(len(windows) * (1-test_split)) # 80% Train, 20% Test\n",
        "  train_windows = windows[:split_size]\n",
        "  train_labels = labels[:split_size]\n",
        "  test_windows = windows[split_size:]\n",
        "  test_labels = labels[split_size:]\n",
        "  return train_windows, test_windows, train_labels, test_labels"
      ]
    },
    {
      "cell_type": "code",
      "execution_count": 27,
      "metadata": {
        "id": "RYs-WALmv6pV",
        "colab": {
          "base_uri": "https://localhost:8080/"
        },
        "outputId": "a7360c09-856d-417a-9ff6-8a309704c83f"
      },
      "outputs": [
        {
          "output_type": "execute_result",
          "data": {
            "text/plain": [
              "(2220, 555, 2220, 555)"
            ]
          },
          "metadata": {},
          "execution_count": 27
        }
      ],
      "source": [
        "train_windows, test_windows, train_labels, test_labels = make_train_test_splits(full_windows, full_labels)\n",
        "len(train_windows), len(test_windows), len(train_labels), len(test_labels)"
      ]
    },
    {
      "cell_type": "code",
      "execution_count": 28,
      "metadata": {
        "id": "kf82b5X9w2y-",
        "colab": {
          "base_uri": "https://localhost:8080/"
        },
        "outputId": "01f07f65-c8ab-44a4-aa2d-13f11ab6ee45"
      },
      "outputs": [
        {
          "output_type": "stream",
          "name": "stdout",
          "text": [
            "Epoch 1/100\n",
            " 1/18 [>.............................] - ETA: 15s - loss: 2850.4199 - mae: 2850.4199INFO:tensorflow:Assets written to: model_experiments/model_1_dense/assets\n",
            "18/18 [==============================] - 2s 39ms/step - loss: 1098.5872 - mae: 1098.5872 - val_loss: 5017.2783 - val_mae: 5017.2783\n",
            "Epoch 2/100\n",
            " 1/18 [>.............................] - ETA: 0s - loss: 496.5898 - mae: 496.5898INFO:tensorflow:Assets written to: model_experiments/model_1_dense/assets\n",
            "18/18 [==============================] - 0s 27ms/step - loss: 330.0732 - mae: 330.0732 - val_loss: 2357.8562 - val_mae: 2357.8562\n",
            "Epoch 3/100\n",
            "18/18 [==============================] - ETA: 0s - loss: 238.5584 - mae: 238.5584INFO:tensorflow:Assets written to: model_experiments/model_1_dense/assets\n",
            "18/18 [==============================] - 0s 27ms/step - loss: 238.5584 - mae: 238.5584 - val_loss: 2024.2534 - val_mae: 2024.2534\n",
            "Epoch 4/100\n",
            "18/18 [==============================] - 0s 5ms/step - loss: 219.1023 - mae: 219.1023 - val_loss: 2030.6708 - val_mae: 2030.6708\n",
            "Epoch 5/100\n",
            " 1/18 [>.............................] - ETA: 0s - loss: 245.4600 - mae: 245.4600INFO:tensorflow:Assets written to: model_experiments/model_1_dense/assets\n",
            "18/18 [==============================] - 0s 26ms/step - loss: 213.1519 - mae: 213.1519 - val_loss: 1954.5135 - val_mae: 1954.5135\n",
            "Epoch 6/100\n",
            " 1/18 [>.............................] - ETA: 0s - loss: 205.1477 - mae: 205.1477INFO:tensorflow:Assets written to: model_experiments/model_1_dense/assets\n",
            "18/18 [==============================] - 0s 25ms/step - loss: 207.7905 - mae: 207.7905 - val_loss: 1881.6027 - val_mae: 1881.6027\n",
            "Epoch 7/100\n",
            " 1/18 [>.............................] - ETA: 0s - loss: 222.3051 - mae: 222.3051INFO:tensorflow:Assets written to: model_experiments/model_1_dense/assets\n",
            "18/18 [==============================] - 0s 26ms/step - loss: 200.6454 - mae: 200.6454 - val_loss: 1827.3903 - val_mae: 1827.3903\n",
            "Epoch 8/100\n",
            " 1/18 [>.............................] - ETA: 0s - loss: 167.0824 - mae: 167.0824INFO:tensorflow:Assets written to: model_experiments/model_1_dense/assets\n",
            "18/18 [==============================] - 1s 36ms/step - loss: 194.8948 - mae: 194.8948 - val_loss: 1796.2030 - val_mae: 1796.2030\n",
            "Epoch 9/100\n",
            " 1/18 [>.............................] - ETA: 0s - loss: 223.5079 - mae: 223.5079INFO:tensorflow:Assets written to: model_experiments/model_1_dense/assets\n",
            "18/18 [==============================] - 0s 25ms/step - loss: 189.2929 - mae: 189.2929 - val_loss: 1720.1371 - val_mae: 1720.1371\n",
            "Epoch 10/100\n",
            " 1/18 [>.............................] - ETA: 0s - loss: 155.7165 - mae: 155.7165INFO:tensorflow:Assets written to: model_experiments/model_1_dense/assets\n",
            "18/18 [==============================] - 0s 25ms/step - loss: 181.1202 - mae: 181.1202 - val_loss: 1686.7318 - val_mae: 1686.7318\n",
            "Epoch 11/100\n",
            " 1/18 [>.............................] - ETA: 0s - loss: 181.7496 - mae: 181.7496INFO:tensorflow:Assets written to: model_experiments/model_1_dense/assets\n",
            "18/18 [==============================] - 0s 27ms/step - loss: 175.4241 - mae: 175.4241 - val_loss: 1607.4983 - val_mae: 1607.4983\n",
            "Epoch 12/100\n",
            " 1/18 [>.............................] - ETA: 0s - loss: 247.3868 - mae: 247.3868INFO:tensorflow:Assets written to: model_experiments/model_1_dense/assets\n",
            "18/18 [==============================] - 0s 26ms/step - loss: 177.4238 - mae: 177.4238 - val_loss: 1586.4164 - val_mae: 1586.4164\n",
            "Epoch 13/100\n",
            " 1/18 [>.............................] - ETA: 0s - loss: 139.3946 - mae: 139.3946INFO:tensorflow:Assets written to: model_experiments/model_1_dense/assets\n",
            "18/18 [==============================] - 0s 25ms/step - loss: 166.9919 - mae: 166.9919 - val_loss: 1540.1226 - val_mae: 1540.1226\n",
            "Epoch 14/100\n",
            " 1/18 [>.............................] - ETA: 0s - loss: 177.7318 - mae: 177.7318INFO:tensorflow:Assets written to: model_experiments/model_1_dense/assets\n",
            "18/18 [==============================] - 0s 26ms/step - loss: 162.5879 - mae: 162.5879 - val_loss: 1527.5435 - val_mae: 1527.5435\n",
            "Epoch 15/100\n",
            " 1/18 [>.............................] - ETA: 0s - loss: 169.2078 - mae: 169.2078INFO:tensorflow:Assets written to: model_experiments/model_1_dense/assets\n",
            "18/18 [==============================] - 0s 27ms/step - loss: 161.5069 - mae: 161.5069 - val_loss: 1507.1168 - val_mae: 1507.1168\n",
            "Epoch 16/100\n",
            " 1/18 [>.............................] - ETA: 0s - loss: 148.3209 - mae: 148.3209INFO:tensorflow:Assets written to: model_experiments/model_1_dense/assets\n",
            "18/18 [==============================] - 0s 26ms/step - loss: 157.0078 - mae: 157.0078 - val_loss: 1457.5614 - val_mae: 1457.5614\n",
            "Epoch 17/100\n",
            " 1/18 [>.............................] - ETA: 0s - loss: 209.6006 - mae: 209.6006INFO:tensorflow:Assets written to: model_experiments/model_1_dense/assets\n",
            "18/18 [==============================] - 0s 25ms/step - loss: 153.7349 - mae: 153.7349 - val_loss: 1421.2195 - val_mae: 1421.2195\n",
            "Epoch 18/100\n",
            "18/18 [==============================] - 0s 4ms/step - loss: 153.6143 - mae: 153.6143 - val_loss: 1485.1399 - val_mae: 1485.1399\n",
            "Epoch 19/100\n",
            " 1/18 [>.............................] - ETA: 0s - loss: 107.1133 - mae: 107.1133INFO:tensorflow:Assets written to: model_experiments/model_1_dense/assets\n",
            "18/18 [==============================] - 0s 27ms/step - loss: 148.9830 - mae: 148.9830 - val_loss: 1392.3563 - val_mae: 1392.3563\n",
            "Epoch 20/100\n",
            " 1/18 [>.............................] - ETA: 0s - loss: 157.3098 - mae: 157.3098INFO:tensorflow:Assets written to: model_experiments/model_1_dense/assets\n",
            "18/18 [==============================] - 0s 26ms/step - loss: 147.1355 - mae: 147.1355 - val_loss: 1386.0167 - val_mae: 1386.0167\n",
            "Epoch 21/100\n",
            "18/18 [==============================] - 0s 4ms/step - loss: 147.1997 - mae: 147.1997 - val_loss: 1403.9952 - val_mae: 1403.9952\n",
            "Epoch 22/100\n",
            " 1/18 [>.............................] - ETA: 0s - loss: 145.1804 - mae: 145.1804INFO:tensorflow:Assets written to: model_experiments/model_1_dense/assets\n",
            "18/18 [==============================] - 0s 27ms/step - loss: 146.6857 - mae: 146.6857 - val_loss: 1351.9098 - val_mae: 1351.9098\n",
            "Epoch 23/100\n",
            "18/18 [==============================] - 0s 5ms/step - loss: 143.6792 - mae: 143.6792 - val_loss: 1353.4537 - val_mae: 1353.4537\n",
            "Epoch 24/100\n",
            "18/18 [==============================] - 0s 4ms/step - loss: 142.5945 - mae: 142.5945 - val_loss: 1446.7617 - val_mae: 1446.7617\n",
            "Epoch 25/100\n",
            "18/18 [==============================] - 0s 5ms/step - loss: 146.6234 - mae: 146.6234 - val_loss: 1520.4458 - val_mae: 1520.4458\n",
            "Epoch 26/100\n",
            "18/18 [==============================] - 0s 4ms/step - loss: 146.8639 - mae: 146.8639 - val_loss: 1359.8248 - val_mae: 1359.8248\n",
            "Epoch 27/100\n",
            " 1/18 [>.............................] - ETA: 0s - loss: 142.6115 - mae: 142.6115INFO:tensorflow:Assets written to: model_experiments/model_1_dense/assets\n",
            "18/18 [==============================] - 0s 25ms/step - loss: 142.5265 - mae: 142.5265 - val_loss: 1336.7932 - val_mae: 1336.7932\n",
            "Epoch 28/100\n",
            " 1/18 [>.............................] - ETA: 0s - loss: 123.8769 - mae: 123.8769INFO:tensorflow:Assets written to: model_experiments/model_1_dense/assets\n",
            "18/18 [==============================] - 0s 26ms/step - loss: 141.6017 - mae: 141.6017 - val_loss: 1310.4357 - val_mae: 1310.4357\n",
            "Epoch 29/100\n",
            " 1/18 [>.............................] - ETA: 0s - loss: 111.3278 - mae: 111.3278INFO:tensorflow:Assets written to: model_experiments/model_1_dense/assets\n",
            "18/18 [==============================] - 1s 38ms/step - loss: 138.5560 - mae: 138.5560 - val_loss: 1309.4149 - val_mae: 1309.4149\n",
            "Epoch 30/100\n",
            "18/18 [==============================] - 0s 8ms/step - loss: 139.9330 - mae: 139.9330 - val_loss: 1322.7281 - val_mae: 1322.7281\n",
            "Epoch 31/100\n",
            "18/18 [==============================] - ETA: 0s - loss: 140.1616 - mae: 140.1616INFO:tensorflow:Assets written to: model_experiments/model_1_dense/assets\n",
            "18/18 [==============================] - 1s 64ms/step - loss: 140.1616 - mae: 140.1616 - val_loss: 1302.8661 - val_mae: 1302.8661\n",
            "Epoch 32/100\n",
            "18/18 [==============================] - 0s 4ms/step - loss: 137.3256 - mae: 137.3256 - val_loss: 1305.9977 - val_mae: 1305.9977\n",
            "Epoch 33/100\n",
            " 1/18 [>.............................] - ETA: 0s - loss: 185.8980 - mae: 185.8980INFO:tensorflow:Assets written to: model_experiments/model_1_dense/assets\n",
            "18/18 [==============================] - 1s 67ms/step - loss: 138.0571 - mae: 138.0571 - val_loss: 1288.2942 - val_mae: 1288.2942\n",
            "Epoch 34/100\n",
            "18/18 [==============================] - 0s 8ms/step - loss: 137.0578 - mae: 137.0578 - val_loss: 1415.9060 - val_mae: 1415.9060\n",
            "Epoch 35/100\n",
            " 1/18 [>.............................] - ETA: 0s - loss: 151.0965 - mae: 151.0965INFO:tensorflow:Assets written to: model_experiments/model_1_dense/assets\n",
            "18/18 [==============================] - 1s 43ms/step - loss: 142.1077 - mae: 142.1077 - val_loss: 1283.2626 - val_mae: 1283.2626\n",
            "Epoch 36/100\n",
            "18/18 [==============================] - 0s 13ms/step - loss: 138.2740 - mae: 138.2740 - val_loss: 1396.2131 - val_mae: 1396.2131\n",
            "Epoch 37/100\n",
            "18/18 [==============================] - 0s 11ms/step - loss: 140.2303 - mae: 140.2303 - val_loss: 1299.7393 - val_mae: 1299.7393\n",
            "Epoch 38/100\n",
            "18/18 [==============================] - 0s 9ms/step - loss: 135.6494 - mae: 135.6494 - val_loss: 1297.4736 - val_mae: 1297.4736\n",
            "Epoch 39/100\n",
            "17/18 [===========================>..] - ETA: 0s - loss: 139.4215 - mae: 139.4215INFO:tensorflow:Assets written to: model_experiments/model_1_dense/assets\n",
            "18/18 [==============================] - 0s 28ms/step - loss: 139.3353 - mae: 139.3353 - val_loss: 1272.9382 - val_mae: 1272.9382\n",
            "Epoch 40/100\n",
            " 1/18 [>.............................] - ETA: 0s - loss: 130.7928 - mae: 130.7928INFO:tensorflow:Assets written to: model_experiments/model_1_dense/assets\n",
            "18/18 [==============================] - 0s 25ms/step - loss: 136.6664 - mae: 136.6664 - val_loss: 1266.4662 - val_mae: 1266.4662\n",
            "Epoch 41/100\n",
            "18/18 [==============================] - 0s 4ms/step - loss: 137.6248 - mae: 137.6248 - val_loss: 1325.0487 - val_mae: 1325.0487\n",
            "Epoch 42/100\n",
            " 1/18 [>.............................] - ETA: 0s - loss: 111.8316 - mae: 111.8316INFO:tensorflow:Assets written to: model_experiments/model_1_dense/assets\n",
            "18/18 [==============================] - 0s 26ms/step - loss: 138.4256 - mae: 138.4256 - val_loss: 1263.5575 - val_mae: 1263.5575\n",
            "Epoch 43/100\n",
            " 1/18 [>.............................] - ETA: 0s - loss: 124.7681 - mae: 124.7681INFO:tensorflow:Assets written to: model_experiments/model_1_dense/assets\n",
            "18/18 [==============================] - 0s 25ms/step - loss: 134.7484 - mae: 134.7484 - val_loss: 1259.9391 - val_mae: 1259.9391\n",
            "Epoch 44/100\n",
            "18/18 [==============================] - 0s 5ms/step - loss: 134.2282 - mae: 134.2282 - val_loss: 1268.7734 - val_mae: 1268.7734\n",
            "Epoch 45/100\n",
            " 1/18 [>.............................] - ETA: 0s - loss: 161.5981 - mae: 161.5981INFO:tensorflow:Assets written to: model_experiments/model_1_dense/assets\n",
            "18/18 [==============================] - 0s 25ms/step - loss: 133.8253 - mae: 133.8253 - val_loss: 1255.2102 - val_mae: 1255.2102\n",
            "Epoch 46/100\n",
            " 1/18 [>.............................] - ETA: 0s - loss: 124.5777 - mae: 124.5777INFO:tensorflow:Assets written to: model_experiments/model_1_dense/assets\n",
            "18/18 [==============================] - 0s 25ms/step - loss: 135.3907 - mae: 135.3907 - val_loss: 1254.0488 - val_mae: 1254.0488\n",
            "Epoch 47/100\n",
            " 1/18 [>.............................] - ETA: 0s - loss: 114.3715 - mae: 114.3715INFO:tensorflow:Assets written to: model_experiments/model_1_dense/assets\n",
            "18/18 [==============================] - 0s 25ms/step - loss: 134.5559 - mae: 134.5559 - val_loss: 1251.2952 - val_mae: 1251.2952\n",
            "Epoch 48/100\n",
            "18/18 [==============================] - 0s 4ms/step - loss: 135.3063 - mae: 135.3063 - val_loss: 1311.0531 - val_mae: 1311.0531\n",
            "Epoch 49/100\n",
            "18/18 [==============================] - 0s 4ms/step - loss: 134.9206 - mae: 134.9206 - val_loss: 1313.7150 - val_mae: 1313.7150\n",
            "Epoch 50/100\n",
            " 1/18 [>.............................] - ETA: 0s - loss: 124.5435 - mae: 124.5435INFO:tensorflow:Assets written to: model_experiments/model_1_dense/assets\n",
            "18/18 [==============================] - 0s 27ms/step - loss: 138.7221 - mae: 138.7221 - val_loss: 1246.1984 - val_mae: 1246.1984\n",
            "Epoch 51/100\n",
            "18/18 [==============================] - 0s 4ms/step - loss: 133.9512 - mae: 133.9512 - val_loss: 1263.7931 - val_mae: 1263.7931\n",
            "Epoch 52/100\n",
            "18/18 [==============================] - 0s 4ms/step - loss: 133.2235 - mae: 133.2235 - val_loss: 1281.6240 - val_mae: 1281.6240\n",
            "Epoch 53/100\n",
            "18/18 [==============================] - 0s 4ms/step - loss: 134.2759 - mae: 134.2759 - val_loss: 1344.5923 - val_mae: 1344.5923\n",
            "Epoch 54/100\n",
            "18/18 [==============================] - 0s 4ms/step - loss: 140.9011 - mae: 140.9011 - val_loss: 1324.0665 - val_mae: 1324.0665\n",
            "Epoch 55/100\n",
            " 1/18 [>.............................] - ETA: 0s - loss: 137.5502 - mae: 137.5502INFO:tensorflow:Assets written to: model_experiments/model_1_dense/assets\n",
            "18/18 [==============================] - 0s 26ms/step - loss: 136.3704 - mae: 136.3704 - val_loss: 1244.8210 - val_mae: 1244.8210\n",
            "Epoch 56/100\n",
            " 1/18 [>.............................] - ETA: 0s - loss: 130.1395 - mae: 130.1395INFO:tensorflow:Assets written to: model_experiments/model_1_dense/assets\n",
            "18/18 [==============================] - 0s 26ms/step - loss: 132.3752 - mae: 132.3752 - val_loss: 1240.9717 - val_mae: 1240.9717\n",
            "Epoch 57/100\n",
            "18/18 [==============================] - 0s 5ms/step - loss: 131.4798 - mae: 131.4798 - val_loss: 1249.5448 - val_mae: 1249.5448\n",
            "Epoch 58/100\n",
            "18/18 [==============================] - 0s 4ms/step - loss: 132.3719 - mae: 132.3719 - val_loss: 1321.6479 - val_mae: 1321.6479\n",
            "Epoch 59/100\n",
            " 1/18 [>.............................] - ETA: 0s - loss: 104.9846 - mae: 104.9846INFO:tensorflow:Assets written to: model_experiments/model_1_dense/assets\n",
            "18/18 [==============================] - 0s 26ms/step - loss: 135.7529 - mae: 135.7529 - val_loss: 1235.0596 - val_mae: 1235.0596\n",
            "Epoch 60/100\n",
            "18/18 [==============================] - 0s 4ms/step - loss: 135.2826 - mae: 135.2826 - val_loss: 1324.1096 - val_mae: 1324.1096\n",
            "Epoch 61/100\n",
            "18/18 [==============================] - 0s 5ms/step - loss: 138.3601 - mae: 138.3601 - val_loss: 1265.2480 - val_mae: 1265.2480\n",
            "Epoch 62/100\n",
            " 1/18 [>.............................] - ETA: 0s - loss: 119.6080 - mae: 119.6080INFO:tensorflow:Assets written to: model_experiments/model_1_dense/assets\n",
            "18/18 [==============================] - 1s 37ms/step - loss: 133.9998 - mae: 133.9998 - val_loss: 1232.5281 - val_mae: 1232.5281\n",
            "Epoch 63/100\n",
            "18/18 [==============================] - 0s 4ms/step - loss: 133.0910 - mae: 133.0910 - val_loss: 1270.9106 - val_mae: 1270.9106\n",
            "Epoch 64/100\n",
            "18/18 [==============================] - 0s 4ms/step - loss: 131.9176 - mae: 131.9176 - val_loss: 1347.9500 - val_mae: 1347.9500\n",
            "Epoch 65/100\n",
            "18/18 [==============================] - 0s 4ms/step - loss: 135.5893 - mae: 135.5893 - val_loss: 1283.2938 - val_mae: 1283.2938\n",
            "Epoch 66/100\n",
            "18/18 [==============================] - 0s 4ms/step - loss: 134.7216 - mae: 134.7216 - val_loss: 1268.3802 - val_mae: 1268.3802\n",
            "Epoch 67/100\n",
            "18/18 [==============================] - 0s 4ms/step - loss: 136.8190 - mae: 136.8190 - val_loss: 1281.1920 - val_mae: 1281.1920\n",
            "Epoch 68/100\n",
            " 1/18 [>.............................] - ETA: 0s - loss: 155.8772 - mae: 155.8772INFO:tensorflow:Assets written to: model_experiments/model_1_dense/assets\n",
            "18/18 [==============================] - 0s 26ms/step - loss: 133.3294 - mae: 133.3294 - val_loss: 1225.9392 - val_mae: 1225.9392\n",
            "Epoch 69/100\n",
            " 1/18 [>.............................] - ETA: 0s - loss: 168.1332 - mae: 168.1332INFO:tensorflow:Assets written to: model_experiments/model_1_dense/assets\n",
            "18/18 [==============================] - 0s 26ms/step - loss: 130.7801 - mae: 130.7801 - val_loss: 1225.8218 - val_mae: 1225.8218\n",
            "Epoch 70/100\n",
            "18/18 [==============================] - 0s 4ms/step - loss: 131.6040 - mae: 131.6040 - val_loss: 1457.6132 - val_mae: 1457.6132\n",
            "Epoch 71/100\n",
            "18/18 [==============================] - 0s 4ms/step - loss: 139.1070 - mae: 139.1070 - val_loss: 1261.1693 - val_mae: 1261.1693\n",
            "Epoch 72/100\n",
            "18/18 [==============================] - 0s 4ms/step - loss: 139.7458 - mae: 139.7458 - val_loss: 1276.9635 - val_mae: 1276.9635\n",
            "Epoch 73/100\n",
            "18/18 [==============================] - 0s 4ms/step - loss: 141.6445 - mae: 141.6445 - val_loss: 1250.2377 - val_mae: 1250.2377\n",
            "Epoch 74/100\n",
            "18/18 [==============================] - 0s 4ms/step - loss: 131.2870 - mae: 131.2870 - val_loss: 1230.4836 - val_mae: 1230.4836\n",
            "Epoch 75/100\n",
            "18/18 [==============================] - 0s 5ms/step - loss: 129.4182 - mae: 129.4182 - val_loss: 1228.1652 - val_mae: 1228.1652\n",
            "Epoch 76/100\n",
            "18/18 [==============================] - 0s 4ms/step - loss: 130.3624 - mae: 130.3624 - val_loss: 1270.3397 - val_mae: 1270.3397\n",
            "Epoch 77/100\n",
            "18/18 [==============================] - 0s 4ms/step - loss: 133.9905 - mae: 133.9905 - val_loss: 1399.5736 - val_mae: 1399.5736\n",
            "Epoch 78/100\n",
            "18/18 [==============================] - 0s 4ms/step - loss: 132.7249 - mae: 132.7249 - val_loss: 1229.1355 - val_mae: 1229.1355\n",
            "Epoch 79/100\n",
            "18/18 [==============================] - 0s 4ms/step - loss: 133.7219 - mae: 133.7219 - val_loss: 1263.4969 - val_mae: 1263.4969\n",
            "Epoch 80/100\n",
            "18/18 [==============================] - 0s 4ms/step - loss: 130.4476 - mae: 130.4476 - val_loss: 1227.6500 - val_mae: 1227.6500\n",
            "Epoch 81/100\n",
            "18/18 [==============================] - 0s 4ms/step - loss: 131.4568 - mae: 131.4568 - val_loss: 1256.3564 - val_mae: 1256.3564\n",
            "Epoch 82/100\n",
            "18/18 [==============================] - 0s 4ms/step - loss: 136.7451 - mae: 136.7451 - val_loss: 1262.2653 - val_mae: 1262.2653\n",
            "Epoch 83/100\n",
            "18/18 [==============================] - 0s 5ms/step - loss: 133.6608 - mae: 133.6608 - val_loss: 1292.4746 - val_mae: 1292.4746\n",
            "Epoch 84/100\n",
            "18/18 [==============================] - 0s 4ms/step - loss: 134.3753 - mae: 134.3753 - val_loss: 1249.9696 - val_mae: 1249.9696\n",
            "Epoch 85/100\n",
            " 1/18 [>.............................] - ETA: 0s - loss: 137.5257 - mae: 137.5257INFO:tensorflow:Assets written to: model_experiments/model_1_dense/assets\n",
            "18/18 [==============================] - 0s 25ms/step - loss: 133.1471 - mae: 133.1471 - val_loss: 1220.9285 - val_mae: 1220.9285\n",
            "Epoch 86/100\n",
            "18/18 [==============================] - 0s 5ms/step - loss: 130.9740 - mae: 130.9740 - val_loss: 1286.6864 - val_mae: 1286.6864\n",
            "Epoch 87/100\n",
            "18/18 [==============================] - 0s 4ms/step - loss: 129.4919 - mae: 129.4919 - val_loss: 1263.5000 - val_mae: 1263.5000\n",
            "Epoch 88/100\n",
            "18/18 [==============================] - 0s 4ms/step - loss: 130.7939 - mae: 130.7939 - val_loss: 1287.4635 - val_mae: 1287.4635\n",
            "Epoch 89/100\n",
            "18/18 [==============================] - 0s 4ms/step - loss: 134.6118 - mae: 134.6118 - val_loss: 1247.5613 - val_mae: 1247.5613\n",
            "Epoch 90/100\n",
            " 1/18 [>.............................] - ETA: 0s - loss: 177.9381 - mae: 177.9381INFO:tensorflow:Assets written to: model_experiments/model_1_dense/assets\n",
            "18/18 [==============================] - 0s 27ms/step - loss: 132.0791 - mae: 132.0791 - val_loss: 1218.5441 - val_mae: 1218.5441\n",
            "Epoch 91/100\n",
            "18/18 [==============================] - 0s 4ms/step - loss: 130.5508 - mae: 130.5508 - val_loss: 1223.7377 - val_mae: 1223.7377\n",
            "Epoch 92/100\n",
            "18/18 [==============================] - 0s 4ms/step - loss: 131.0581 - mae: 131.0581 - val_loss: 1262.4066 - val_mae: 1262.4066\n",
            "Epoch 93/100\n",
            "18/18 [==============================] - 0s 4ms/step - loss: 135.3392 - mae: 135.3392 - val_loss: 1493.9990 - val_mae: 1493.9990\n",
            "Epoch 94/100\n",
            "18/18 [==============================] - 0s 6ms/step - loss: 145.0533 - mae: 145.0533 - val_loss: 1513.5665 - val_mae: 1513.5665\n",
            "Epoch 95/100\n",
            "18/18 [==============================] - 0s 4ms/step - loss: 146.9267 - mae: 146.9267 - val_loss: 1223.3560 - val_mae: 1223.3560\n",
            "Epoch 96/100\n",
            "18/18 [==============================] - 0s 4ms/step - loss: 138.3044 - mae: 138.3044 - val_loss: 1300.1373 - val_mae: 1300.1373\n",
            "Epoch 97/100\n",
            "18/18 [==============================] - 0s 4ms/step - loss: 144.0272 - mae: 144.0272 - val_loss: 1364.7098 - val_mae: 1364.7098\n",
            "Epoch 98/100\n",
            "18/18 [==============================] - 0s 4ms/step - loss: 134.3306 - mae: 134.3306 - val_loss: 1390.2881 - val_mae: 1390.2881\n",
            "Epoch 99/100\n",
            "18/18 [==============================] - 0s 5ms/step - loss: 132.0665 - mae: 132.0665 - val_loss: 1237.1390 - val_mae: 1237.1390\n",
            "Epoch 100/100\n",
            "18/18 [==============================] - 0s 4ms/step - loss: 131.3974 - mae: 131.3974 - val_loss: 1232.2061 - val_mae: 1232.2061\n"
          ]
        },
        {
          "output_type": "execute_result",
          "data": {
            "text/plain": [
              "<keras.callbacks.History at 0x7fa378264990>"
            ]
          },
          "metadata": {},
          "execution_count": 28
        }
      ],
      "source": [
        "# MODEL 1 (Window size 7, Horizon 1)\n",
        "import tensorflow as tf\n",
        "from tensorflow.keras import layers\n",
        "\n",
        "# Set random seed for as reproducible results as possible\n",
        "tf.random.set_seed(42)\n",
        "\n",
        "# Construct model\n",
        "model_1 = tf.keras.Sequential([\n",
        "  layers.Dense(128, activation=\"relu\"),\n",
        "  layers.Dense(HORIZON, activation=\"linear\") # linear activation is the same as having no activation                        \n",
        "], name=\"model_1_dense\") # give the model a name so we can save it\n",
        "\n",
        "# Compile model\n",
        "model_1.compile(loss=\"mae\",\n",
        "                optimizer=tf.keras.optimizers.Adam(),\n",
        "                metrics=[\"mae\"]) # we don't necessarily need this when the loss function is already MAE\n",
        "\n",
        "# Fit model\n",
        "model_1.fit(x=train_windows, # train windows of 7 timesteps of Bitcoin prices\n",
        "            y=train_labels, # horizon value of 1 (using the previous 7 timesteps to predict next day)\n",
        "            epochs=100,\n",
        "            verbose=1,\n",
        "            batch_size=128,\n",
        "            validation_data=(test_windows, test_labels),\n",
        "            callbacks=[create_model_checkpoint(model_name=model_1.name)]) # create ModelCheckpoint callback to save best model"
      ]
    },
    {
      "cell_type": "code",
      "execution_count": 29,
      "metadata": {
        "id": "TNZ2NKARw4h_",
        "colab": {
          "base_uri": "https://localhost:8080/"
        },
        "outputId": "3b4bb23d-fc59-4911-af3a-7b1918c40d89"
      },
      "outputs": [
        {
          "output_type": "stream",
          "name": "stdout",
          "text": [
            "18/18 [==============================] - 0s 2ms/step - loss: 1218.5441 - mae: 1218.5441\n"
          ]
        },
        {
          "output_type": "execute_result",
          "data": {
            "text/plain": [
              "[1218.5440673828125, 1218.5440673828125]"
            ]
          },
          "metadata": {},
          "execution_count": 29
        }
      ],
      "source": [
        "# Load model\n",
        "model_1 = tf.keras.models.load_model(\"model_experiments/model_1_dense\")\n",
        "model_1.evaluate(test_windows, test_labels)"
      ]
    },
    {
      "cell_type": "code",
      "execution_count": 30,
      "metadata": {
        "id": "GcN6BOBT0LKn"
      },
      "outputs": [],
      "source": [
        "def make_preds(model, input_data):\n",
        "\n",
        "  forecast = model.predict(input_data)\n",
        "  return tf.squeeze(forecast) "
      ]
    },
    {
      "cell_type": "code",
      "execution_count": 31,
      "metadata": {
        "id": "aaM8ULRY7xS9"
      },
      "outputs": [],
      "source": [
        "# Make predictions\n",
        "model_1_preds = make_preds(model_1, test_windows)\n"
      ]
    },
    {
      "cell_type": "code",
      "execution_count": 32,
      "metadata": {
        "id": "fMQeOGOF0Pjq",
        "colab": {
          "base_uri": "https://localhost:8080/"
        },
        "outputId": "a5b15bf1-efef-4c7f-85fa-1127f6558f17"
      },
      "outputs": [
        {
          "output_type": "execute_result",
          "data": {
            "text/plain": [
              "{'mae': 1218.5441,\n",
              " 'mape': 2.911333,\n",
              " 'mase': 1.0100223,\n",
              " 'mse': 2889752.2,\n",
              " 'rmse': 1699.9271}"
            ]
          },
          "metadata": {},
          "execution_count": 32
        }
      ],
      "source": [
        "# Evaluate predictions\n",
        "model_1_results = evaluate_preds(y_true=tf.squeeze(test_labels), # reduce to right shape\n",
        "                                 y_pred=model_1_preds)\n",
        "model_1_results"
      ]
    },
    {
      "cell_type": "markdown",
      "source": [
        "## Model 2 (CNN)"
      ],
      "metadata": {
        "id": "u1_LQErOBOMb"
      }
    },
    {
      "cell_type": "code",
      "execution_count": 33,
      "metadata": {
        "id": "yHWCTwVF4G4O"
      },
      "outputs": [],
      "source": [
        "# MODEl 2 CNN \n",
        "HORIZON = 1 \n",
        "WINDOW_SIZE = 7"
      ]
    },
    {
      "cell_type": "code",
      "execution_count": 34,
      "metadata": {
        "id": "vgL9UlKW5sq5",
        "colab": {
          "base_uri": "https://localhost:8080/"
        },
        "outputId": "2b1956fc-acb7-405e-f1e6-ee39eb47f131"
      },
      "outputs": [
        {
          "output_type": "execute_result",
          "data": {
            "text/plain": [
              "(2220, 555, 2220, 555)"
            ]
          },
          "metadata": {},
          "execution_count": 34
        }
      ],
      "source": [
        "# Create windowed dataset\n",
        "full_windows, full_labels = make_windows(prices, window_size=WINDOW_SIZE, horizon=HORIZON)\n",
        "len(full_windows), len(full_labels)\n",
        "# Create train/test splits\n",
        "train_windows, test_windows, train_labels, test_labels = make_train_test_splits(full_windows, full_labels)\n",
        "len(train_windows), len(test_windows), len(train_labels), len(test_labels)"
      ]
    },
    {
      "cell_type": "code",
      "execution_count": 35,
      "metadata": {
        "id": "HQnACG1q5vSG",
        "colab": {
          "base_uri": "https://localhost:8080/"
        },
        "outputId": "e101f38e-0680-4114-af1b-b731cdc109ab"
      },
      "outputs": [
        {
          "output_type": "stream",
          "name": "stdout",
          "text": [
            "INFO:tensorflow:Assets written to: model_experiments/model_2_conv1D/assets\n",
            "INFO:tensorflow:Assets written to: model_experiments/model_2_conv1D/assets\n",
            "INFO:tensorflow:Assets written to: model_experiments/model_2_conv1D/assets\n",
            "INFO:tensorflow:Assets written to: model_experiments/model_2_conv1D/assets\n",
            "INFO:tensorflow:Assets written to: model_experiments/model_2_conv1D/assets\n",
            "INFO:tensorflow:Assets written to: model_experiments/model_2_conv1D/assets\n",
            "INFO:tensorflow:Assets written to: model_experiments/model_2_conv1D/assets\n",
            "INFO:tensorflow:Assets written to: model_experiments/model_2_conv1D/assets\n",
            "INFO:tensorflow:Assets written to: model_experiments/model_2_conv1D/assets\n",
            "INFO:tensorflow:Assets written to: model_experiments/model_2_conv1D/assets\n",
            "INFO:tensorflow:Assets written to: model_experiments/model_2_conv1D/assets\n",
            "INFO:tensorflow:Assets written to: model_experiments/model_2_conv1D/assets\n",
            "INFO:tensorflow:Assets written to: model_experiments/model_2_conv1D/assets\n",
            "INFO:tensorflow:Assets written to: model_experiments/model_2_conv1D/assets\n",
            "INFO:tensorflow:Assets written to: model_experiments/model_2_conv1D/assets\n",
            "INFO:tensorflow:Assets written to: model_experiments/model_2_conv1D/assets\n",
            "INFO:tensorflow:Assets written to: model_experiments/model_2_conv1D/assets\n",
            "INFO:tensorflow:Assets written to: model_experiments/model_2_conv1D/assets\n",
            "INFO:tensorflow:Assets written to: model_experiments/model_2_conv1D/assets\n",
            "INFO:tensorflow:Assets written to: model_experiments/model_2_conv1D/assets\n",
            "INFO:tensorflow:Assets written to: model_experiments/model_2_conv1D/assets\n",
            "INFO:tensorflow:Assets written to: model_experiments/model_2_conv1D/assets\n",
            "INFO:tensorflow:Assets written to: model_experiments/model_2_conv1D/assets\n",
            "INFO:tensorflow:Assets written to: model_experiments/model_2_conv1D/assets\n",
            "INFO:tensorflow:Assets written to: model_experiments/model_2_conv1D/assets\n",
            "INFO:tensorflow:Assets written to: model_experiments/model_2_conv1D/assets\n",
            "INFO:tensorflow:Assets written to: model_experiments/model_2_conv1D/assets\n",
            "INFO:tensorflow:Assets written to: model_experiments/model_2_conv1D/assets\n",
            "INFO:tensorflow:Assets written to: model_experiments/model_2_conv1D/assets\n",
            "INFO:tensorflow:Assets written to: model_experiments/model_2_conv1D/assets\n",
            "INFO:tensorflow:Assets written to: model_experiments/model_2_conv1D/assets\n",
            "INFO:tensorflow:Assets written to: model_experiments/model_2_conv1D/assets\n",
            "INFO:tensorflow:Assets written to: model_experiments/model_2_conv1D/assets\n",
            "INFO:tensorflow:Assets written to: model_experiments/model_2_conv1D/assets\n",
            "INFO:tensorflow:Assets written to: model_experiments/model_2_conv1D/assets\n",
            "INFO:tensorflow:Assets written to: model_experiments/model_2_conv1D/assets\n",
            "INFO:tensorflow:Assets written to: model_experiments/model_2_conv1D/assets\n",
            "INFO:tensorflow:Assets written to: model_experiments/model_2_conv1D/assets\n",
            "INFO:tensorflow:Assets written to: model_experiments/model_2_conv1D/assets\n",
            "INFO:tensorflow:Assets written to: model_experiments/model_2_conv1D/assets\n",
            "INFO:tensorflow:Assets written to: model_experiments/model_2_conv1D/assets\n",
            "INFO:tensorflow:Assets written to: model_experiments/model_2_conv1D/assets\n",
            "INFO:tensorflow:Assets written to: model_experiments/model_2_conv1D/assets\n",
            "INFO:tensorflow:Assets written to: model_experiments/model_2_conv1D/assets\n",
            "INFO:tensorflow:Assets written to: model_experiments/model_2_conv1D/assets\n",
            "INFO:tensorflow:Assets written to: model_experiments/model_2_conv1D/assets\n"
          ]
        },
        {
          "output_type": "execute_result",
          "data": {
            "text/plain": [
              "<keras.callbacks.History at 0x7fa3f93d2a50>"
            ]
          },
          "metadata": {},
          "execution_count": 35
        }
      ],
      "source": [
        "tf.random.set_seed(42)\n",
        "\n",
        "# Create model\n",
        "model_2 = tf.keras.Sequential([\n",
        "  # Create Lambda layer to reshape inputs, without this layer, the model will error\n",
        "  layers.Lambda(lambda x: tf.expand_dims(x, axis=1)), # resize the inputs to adjust for window size / Conv1D 3D input requirements\n",
        "  layers.Conv1D(filters=128, kernel_size=5, padding=\"causal\", activation=\"relu\"),\n",
        "  layers.Dense(HORIZON)\n",
        "], name=\"model_2_conv1D\")\n",
        "\n",
        "# Compile model\n",
        "model_2.compile(loss=\"mae\",\n",
        "                optimizer=tf.keras.optimizers.Adam())\n",
        "\n",
        "# Fit model\n",
        "model_2.fit(train_windows,\n",
        "            train_labels,\n",
        "            batch_size=128, \n",
        "            epochs=100,\n",
        "            verbose=0,\n",
        "            validation_data=(test_windows, test_labels),\n",
        "            callbacks=[create_model_checkpoint(model_name=model_2.name)])"
      ]
    },
    {
      "cell_type": "code",
      "execution_count": 36,
      "metadata": {
        "id": "c7-6I6XB5z7F",
        "colab": {
          "base_uri": "https://localhost:8080/"
        },
        "outputId": "02f52f5a-cd02-4e40-8884-b683e2d71211"
      },
      "outputs": [
        {
          "output_type": "stream",
          "name": "stdout",
          "text": [
            "18/18 [==============================] - 0s 3ms/step - loss: 1229.3080\n"
          ]
        },
        {
          "output_type": "execute_result",
          "data": {
            "text/plain": [
              "1229.3079833984375"
            ]
          },
          "metadata": {},
          "execution_count": 36
        }
      ],
      "source": [
        "# Load in best performing Conv1D model and evaluate it on the test data\n",
        "model_2 = tf.keras.models.load_model(\"model_experiments/model_4_conv1D\")\n",
        "model_2.evaluate(test_windows, test_labels)"
      ]
    },
    {
      "cell_type": "code",
      "execution_count": 37,
      "metadata": {
        "id": "nVJh_hwP5-Wq"
      },
      "outputs": [],
      "source": [
        "# Make predictions\n",
        "model_2_preds = make_preds(model_2, test_windows)\n"
      ]
    },
    {
      "cell_type": "code",
      "execution_count": 38,
      "metadata": {
        "id": "ZIqGkWCe5-rq",
        "colab": {
          "base_uri": "https://localhost:8080/"
        },
        "outputId": "a8a7baaf-fdea-457f-f9fe-5bc106bb9d13"
      },
      "outputs": [
        {
          "output_type": "execute_result",
          "data": {
            "text/plain": [
              "{'mae': 1229.3081,\n",
              " 'mape': 2.9358792,\n",
              " 'mase': 1.0189444,\n",
              " 'mse': 2938640.5,\n",
              " 'rmse': 1714.2463}"
            ]
          },
          "metadata": {},
          "execution_count": 38
        }
      ],
      "source": [
        "# Evaluate predictions\n",
        "model_2_results = evaluate_preds(y_true=tf.squeeze(test_labels),\n",
        "                                 y_pred=model_2_preds)\n",
        "model_2_results"
      ]
    },
    {
      "cell_type": "code",
      "execution_count": 38,
      "metadata": {
        "id": "aqTJjvAY7Dfh"
      },
      "outputs": [],
      "source": [
        ""
      ]
    },
    {
      "cell_type": "markdown",
      "source": [
        "# Multivariate Time Series (Price and Block Reward Value)\n"
      ],
      "metadata": {
        "id": "HjWSfzCDX3UP"
      }
    },
    {
      "cell_type": "markdown",
      "source": [
        "##Block Reward"
      ],
      "metadata": {
        "id": "1V63Tq3KQ3JU"
      }
    },
    {
      "cell_type": "code",
      "source": [
        "bitcoin_prices.head()"
      ],
      "metadata": {
        "id": "2vEF_-LVbz_3",
        "colab": {
          "base_uri": "https://localhost:8080/",
          "height": 0
        },
        "outputId": "bbaaadf3-8c2a-4fca-9231-71208474b03d"
      },
      "execution_count": 39,
      "outputs": [
        {
          "output_type": "execute_result",
          "data": {
            "text/plain": [
              "                 Price\n",
              "Date                  \n",
              "2014-09-17  457.334015\n",
              "2014-09-18  424.440002\n",
              "2014-09-19  394.795990\n",
              "2014-09-20  408.903992\n",
              "2014-09-21  398.821014"
            ],
            "text/html": [
              "\n",
              "  <div id=\"df-66bb4784-ab8b-43cf-9ba3-0b0826e9a8e7\">\n",
              "    <div class=\"colab-df-container\">\n",
              "      <div>\n",
              "<style scoped>\n",
              "    .dataframe tbody tr th:only-of-type {\n",
              "        vertical-align: middle;\n",
              "    }\n",
              "\n",
              "    .dataframe tbody tr th {\n",
              "        vertical-align: top;\n",
              "    }\n",
              "\n",
              "    .dataframe thead th {\n",
              "        text-align: right;\n",
              "    }\n",
              "</style>\n",
              "<table border=\"1\" class=\"dataframe\">\n",
              "  <thead>\n",
              "    <tr style=\"text-align: right;\">\n",
              "      <th></th>\n",
              "      <th>Price</th>\n",
              "    </tr>\n",
              "    <tr>\n",
              "      <th>Date</th>\n",
              "      <th></th>\n",
              "    </tr>\n",
              "  </thead>\n",
              "  <tbody>\n",
              "    <tr>\n",
              "      <th>2014-09-17</th>\n",
              "      <td>457.334015</td>\n",
              "    </tr>\n",
              "    <tr>\n",
              "      <th>2014-09-18</th>\n",
              "      <td>424.440002</td>\n",
              "    </tr>\n",
              "    <tr>\n",
              "      <th>2014-09-19</th>\n",
              "      <td>394.795990</td>\n",
              "    </tr>\n",
              "    <tr>\n",
              "      <th>2014-09-20</th>\n",
              "      <td>408.903992</td>\n",
              "    </tr>\n",
              "    <tr>\n",
              "      <th>2014-09-21</th>\n",
              "      <td>398.821014</td>\n",
              "    </tr>\n",
              "  </tbody>\n",
              "</table>\n",
              "</div>\n",
              "      <button class=\"colab-df-convert\" onclick=\"convertToInteractive('df-66bb4784-ab8b-43cf-9ba3-0b0826e9a8e7')\"\n",
              "              title=\"Convert this dataframe to an interactive table.\"\n",
              "              style=\"display:none;\">\n",
              "        \n",
              "  <svg xmlns=\"http://www.w3.org/2000/svg\" height=\"24px\"viewBox=\"0 0 24 24\"\n",
              "       width=\"24px\">\n",
              "    <path d=\"M0 0h24v24H0V0z\" fill=\"none\"/>\n",
              "    <path d=\"M18.56 5.44l.94 2.06.94-2.06 2.06-.94-2.06-.94-.94-2.06-.94 2.06-2.06.94zm-11 1L8.5 8.5l.94-2.06 2.06-.94-2.06-.94L8.5 2.5l-.94 2.06-2.06.94zm10 10l.94 2.06.94-2.06 2.06-.94-2.06-.94-.94-2.06-.94 2.06-2.06.94z\"/><path d=\"M17.41 7.96l-1.37-1.37c-.4-.4-.92-.59-1.43-.59-.52 0-1.04.2-1.43.59L10.3 9.45l-7.72 7.72c-.78.78-.78 2.05 0 2.83L4 21.41c.39.39.9.59 1.41.59.51 0 1.02-.2 1.41-.59l7.78-7.78 2.81-2.81c.8-.78.8-2.07 0-2.86zM5.41 20L4 18.59l7.72-7.72 1.47 1.35L5.41 20z\"/>\n",
              "  </svg>\n",
              "      </button>\n",
              "      \n",
              "  <style>\n",
              "    .colab-df-container {\n",
              "      display:flex;\n",
              "      flex-wrap:wrap;\n",
              "      gap: 12px;\n",
              "    }\n",
              "\n",
              "    .colab-df-convert {\n",
              "      background-color: #E8F0FE;\n",
              "      border: none;\n",
              "      border-radius: 50%;\n",
              "      cursor: pointer;\n",
              "      display: none;\n",
              "      fill: #1967D2;\n",
              "      height: 32px;\n",
              "      padding: 0 0 0 0;\n",
              "      width: 32px;\n",
              "    }\n",
              "\n",
              "    .colab-df-convert:hover {\n",
              "      background-color: #E2EBFA;\n",
              "      box-shadow: 0px 1px 2px rgba(60, 64, 67, 0.3), 0px 1px 3px 1px rgba(60, 64, 67, 0.15);\n",
              "      fill: #174EA6;\n",
              "    }\n",
              "\n",
              "    [theme=dark] .colab-df-convert {\n",
              "      background-color: #3B4455;\n",
              "      fill: #D2E3FC;\n",
              "    }\n",
              "\n",
              "    [theme=dark] .colab-df-convert:hover {\n",
              "      background-color: #434B5C;\n",
              "      box-shadow: 0px 1px 3px 1px rgba(0, 0, 0, 0.15);\n",
              "      filter: drop-shadow(0px 1px 2px rgba(0, 0, 0, 0.3));\n",
              "      fill: #FFFFFF;\n",
              "    }\n",
              "  </style>\n",
              "\n",
              "      <script>\n",
              "        const buttonEl =\n",
              "          document.querySelector('#df-66bb4784-ab8b-43cf-9ba3-0b0826e9a8e7 button.colab-df-convert');\n",
              "        buttonEl.style.display =\n",
              "          google.colab.kernel.accessAllowed ? 'block' : 'none';\n",
              "\n",
              "        async function convertToInteractive(key) {\n",
              "          const element = document.querySelector('#df-66bb4784-ab8b-43cf-9ba3-0b0826e9a8e7');\n",
              "          const dataTable =\n",
              "            await google.colab.kernel.invokeFunction('convertToInteractive',\n",
              "                                                     [key], {});\n",
              "          if (!dataTable) return;\n",
              "\n",
              "          const docLinkHtml = 'Like what you see? Visit the ' +\n",
              "            '<a target=\"_blank\" href=https://colab.research.google.com/notebooks/data_table.ipynb>data table notebook</a>'\n",
              "            + ' to learn more about interactive tables.';\n",
              "          element.innerHTML = '';\n",
              "          dataTable['output_type'] = 'display_data';\n",
              "          await google.colab.output.renderOutput(dataTable, element);\n",
              "          const docLink = document.createElement('div');\n",
              "          docLink.innerHTML = docLinkHtml;\n",
              "          element.appendChild(docLink);\n",
              "        }\n",
              "      </script>\n",
              "    </div>\n",
              "  </div>\n",
              "  "
            ]
          },
          "metadata": {},
          "execution_count": 39
        }
      ]
    },
    {
      "cell_type": "code",
      "source": [
        "# Block Reward values \n",
        "block_reward_1 = 50 \n",
        "block_reward_2 = 25\n",
        "block_reward_3 = 12.5\n",
        "block_reward_4 =6.25\n",
        "\n",
        "blcok_reward_1_datetime = np.datetime64(\"2009-01-03\")\n",
        "block_reward_2_datetime = np.datetime64(\"2012-11-28\")\n",
        "block_reward_3_datetime = np.datetime64(\"2016-07-09\")\n",
        "block_reward_4_datetime = np.datetime64(\"2020-05-11\")\n",
        "\n",
        "block_reward_1_days = (block_reward_2_datetime - bitcoin_prices.index[0]).days\n",
        "block_reward_2_days = (block_reward_3_datetime - bitcoin_prices.index[0]).days\n",
        "block_reward_3_days = (block_reward_4_datetime - bitcoin_prices.index[0]).days\n",
        "\n",
        "\n",
        "# Add block_reward column\n",
        "bitcoin_prices_block = bitcoin_prices.copy()\n",
        "bitcoin_prices_block[\"block_reward\"] = None\n",
        "\n",
        "# Set values of block_reward column (it's the last column hence -1 indexing on iloc)\n",
        "bitcoin_prices_block.iloc[:block_reward_2_days, -1] = block_reward_2\n",
        "bitcoin_prices_block.iloc[block_reward_2_days:block_reward_3_days, -1] = block_reward_3\n",
        "bitcoin_prices_block.iloc[block_reward_3_days:, -1] = block_reward_4\n",
        "\n"
      ],
      "metadata": {
        "id": "Mwr11Y8Nb2iP"
      },
      "execution_count": 40,
      "outputs": []
    },
    {
      "cell_type": "code",
      "source": [
        "# Plot the block reward/price over time\n",
        "# Note: Because of the different scales of our values we'll scale them to be between 0 and 1.\n",
        "from sklearn.preprocessing import minmax_scale\n",
        "scaled_price_block_df = pd.DataFrame(minmax_scale(bitcoin_prices_block[[\"Price\", \"block_reward\"]]), # we need to scale the data first\n",
        "                                     columns=bitcoin_prices_block.columns,\n",
        "                                     index=bitcoin_prices_block.index)\n",
        "scaled_price_block_df.plot(figsize=(10, 7));\n"
      ],
      "metadata": {
        "colab": {
          "base_uri": "https://localhost:8080/",
          "height": 0
        },
        "id": "qsuMeyn6Q5fV",
        "outputId": "a321cd21-e81f-4c98-907a-817e75b6cc76"
      },
      "execution_count": 41,
      "outputs": [
        {
          "output_type": "display_data",
          "data": {
            "text/plain": [
              "<Figure size 720x504 with 1 Axes>"
            ],
            "image/png": "[encoded data removed]"
          },
          "metadata": {
            "needs_background": "light"
          }
        }
      ]
    },
    {
      "cell_type": "markdown",
      "source": [
        "## Model 3 (window 7, horizon 1, Multivariate) "
      ],
      "metadata": {
        "id": "SEtdiRJudH32"
      }
    },
    {
      "cell_type": "code",
      "source": [
        "# Setup dataset hyperparameters\n",
        "HORIZON = 1\n",
        "WINDOW_SIZE = 7"
      ],
      "metadata": {
        "id": "UfFrcTKRegod"
      },
      "execution_count": 42,
      "outputs": []
    },
    {
      "cell_type": "code",
      "source": [
        "# Make a copy of the Bitcoin historical data with block reward feature\n",
        "bitcoin_prices_windowed = bitcoin_prices_block.copy()\n",
        "\n",
        "# Add windowed columns\n",
        "for i in range(WINDOW_SIZE): # Shift values for each step in WINDOW_SIZE\n",
        "  bitcoin_prices_windowed[f\"Price+{i+1}\"] = bitcoin_prices_windowed[\"Price\"].shift(periods=i+1)\n",
        "bitcoin_prices_windowed.head(10)"
      ],
      "metadata": {
        "id": "aGotG3g0eg6K",
        "colab": {
          "base_uri": "https://localhost:8080/",
          "height": 394
        },
        "outputId": "00aa78d8-58cf-47da-de61-4b14e78c6392"
      },
      "execution_count": 43,
      "outputs": [
        {
          "output_type": "execute_result",
          "data": {
            "text/plain": [
              "                 Price block_reward     Price+1     Price+2     Price+3  \\\n",
              "Date                                                                      \n",
              "2014-09-17  457.334015           25         NaN         NaN         NaN   \n",
              "2014-09-18  424.440002           25  457.334015         NaN         NaN   \n",
              "2014-09-19  394.795990           25  424.440002  457.334015         NaN   \n",
              "2014-09-20  408.903992           25  394.795990  424.440002  457.334015   \n",
              "2014-09-21  398.821014           25  408.903992  394.795990  424.440002   \n",
              "2014-09-22  402.152008           25  398.821014  408.903992  394.795990   \n",
              "2014-09-23  435.790985           25  402.152008  398.821014  408.903992   \n",
              "2014-09-24  423.204987           25  435.790985  402.152008  398.821014   \n",
              "2014-09-25  411.574005           25  423.204987  435.790985  402.152008   \n",
              "2014-09-26  404.424988           25  411.574005  423.204987  435.790985   \n",
              "\n",
              "               Price+4     Price+5     Price+6     Price+7  \n",
              "Date                                                        \n",
              "2014-09-17         NaN         NaN         NaN         NaN  \n",
              "2014-09-18         NaN         NaN         NaN         NaN  \n",
              "2014-09-19         NaN         NaN         NaN         NaN  \n",
              "2014-09-20         NaN         NaN         NaN         NaN  \n",
              "2014-09-21  457.334015         NaN         NaN         NaN  \n",
              "2014-09-22  424.440002  457.334015         NaN         NaN  \n",
              "2014-09-23  394.795990  424.440002  457.334015         NaN  \n",
              "2014-09-24  408.903992  394.795990  424.440002  457.334015  \n",
              "2014-09-25  398.821014  408.903992  394.795990  424.440002  \n",
              "2014-09-26  402.152008  398.821014  408.903992  394.795990  "
            ],
            "text/html": [
              "\n",
              "  <div id=\"df-22141b8b-691c-49c3-aa1b-8e1a3b12eb11\">\n",
              "    <div class=\"colab-df-container\">\n",
              "      <div>\n",
              "<style scoped>\n",
              "    .dataframe tbody tr th:only-of-type {\n",
              "        vertical-align: middle;\n",
              "    }\n",
              "\n",
              "    .dataframe tbody tr th {\n",
              "        vertical-align: top;\n",
              "    }\n",
              "\n",
              "    .dataframe thead th {\n",
              "        text-align: right;\n",
              "    }\n",
              "</style>\n",
              "<table border=\"1\" class=\"dataframe\">\n",
              "  <thead>\n",
              "    <tr style=\"text-align: right;\">\n",
              "      <th></th>\n",
              "      <th>Price</th>\n",
              "      <th>block_reward</th>\n",
              "      <th>Price+1</th>\n",
              "      <th>Price+2</th>\n",
              "      <th>Price+3</th>\n",
              "      <th>Price+4</th>\n",
              "      <th>Price+5</th>\n",
              "      <th>Price+6</th>\n",
              "      <th>Price+7</th>\n",
              "    </tr>\n",
              "    <tr>\n",
              "      <th>Date</th>\n",
              "      <th></th>\n",
              "      <th></th>\n",
              "      <th></th>\n",
              "      <th></th>\n",
              "      <th></th>\n",
              "      <th></th>\n",
              "      <th></th>\n",
              "      <th></th>\n",
              "      <th></th>\n",
              "    </tr>\n",
              "  </thead>\n",
              "  <tbody>\n",
              "    <tr>\n",
              "      <th>2014-09-17</th>\n",
              "      <td>457.334015</td>\n",
              "      <td>25</td>\n",
              "      <td>NaN</td>\n",
              "      <td>NaN</td>\n",
              "      <td>NaN</td>\n",
              "      <td>NaN</td>\n",
              "      <td>NaN</td>\n",
              "      <td>NaN</td>\n",
              "      <td>NaN</td>\n",
              "    </tr>\n",
              "    <tr>\n",
              "      <th>2014-09-18</th>\n",
              "      <td>424.440002</td>\n",
              "      <td>25</td>\n",
              "      <td>457.334015</td>\n",
              "      <td>NaN</td>\n",
              "      <td>NaN</td>\n",
              "      <td>NaN</td>\n",
              "      <td>NaN</td>\n",
              "      <td>NaN</td>\n",
              "      <td>NaN</td>\n",
              "    </tr>\n",
              "    <tr>\n",
              "      <th>2014-09-19</th>\n",
              "      <td>394.795990</td>\n",
              "      <td>25</td>\n",
              "      <td>424.440002</td>\n",
              "      <td>457.334015</td>\n",
              "      <td>NaN</td>\n",
              "      <td>NaN</td>\n",
              "      <td>NaN</td>\n",
              "      <td>NaN</td>\n",
              "      <td>NaN</td>\n",
              "    </tr>\n",
              "    <tr>\n",
              "      <th>2014-09-20</th>\n",
              "      <td>408.903992</td>\n",
              "      <td>25</td>\n",
              "      <td>394.795990</td>\n",
              "      <td>424.440002</td>\n",
              "      <td>457.334015</td>\n",
              "      <td>NaN</td>\n",
              "      <td>NaN</td>\n",
              "      <td>NaN</td>\n",
              "      <td>NaN</td>\n",
              "    </tr>\n",
              "    <tr>\n",
              "      <th>2014-09-21</th>\n",
              "      <td>398.821014</td>\n",
              "      <td>25</td>\n",
              "      <td>408.903992</td>\n",
              "      <td>394.795990</td>\n",
              "      <td>424.440002</td>\n",
              "      <td>457.334015</td>\n",
              "      <td>NaN</td>\n",
              "      <td>NaN</td>\n",
              "      <td>NaN</td>\n",
              "    </tr>\n",
              "    <tr>\n",
              "      <th>2014-09-22</th>\n",
              "      <td>402.152008</td>\n",
              "      <td>25</td>\n",
              "      <td>398.821014</td>\n",
              "      <td>408.903992</td>\n",
              "      <td>394.795990</td>\n",
              "      <td>424.440002</td>\n",
              "      <td>457.334015</td>\n",
              "      <td>NaN</td>\n",
              "      <td>NaN</td>\n",
              "    </tr>\n",
              "    <tr>\n",
              "      <th>2014-09-23</th>\n",
              "      <td>435.790985</td>\n",
              "      <td>25</td>\n",
              "      <td>402.152008</td>\n",
              "      <td>398.821014</td>\n",
              "      <td>408.903992</td>\n",
              "      <td>394.795990</td>\n",
              "      <td>424.440002</td>\n",
              "      <td>457.334015</td>\n",
              "      <td>NaN</td>\n",
              "    </tr>\n",
              "    <tr>\n",
              "      <th>2014-09-24</th>\n",
              "      <td>423.204987</td>\n",
              "      <td>25</td>\n",
              "      <td>435.790985</td>\n",
              "      <td>402.152008</td>\n",
              "      <td>398.821014</td>\n",
              "      <td>408.903992</td>\n",
              "      <td>394.795990</td>\n",
              "      <td>424.440002</td>\n",
              "      <td>457.334015</td>\n",
              "    </tr>\n",
              "    <tr>\n",
              "      <th>2014-09-25</th>\n",
              "      <td>411.574005</td>\n",
              "      <td>25</td>\n",
              "      <td>423.204987</td>\n",
              "      <td>435.790985</td>\n",
              "      <td>402.152008</td>\n",
              "      <td>398.821014</td>\n",
              "      <td>408.903992</td>\n",
              "      <td>394.795990</td>\n",
              "      <td>424.440002</td>\n",
              "    </tr>\n",
              "    <tr>\n",
              "      <th>2014-09-26</th>\n",
              "      <td>404.424988</td>\n",
              "      <td>25</td>\n",
              "      <td>411.574005</td>\n",
              "      <td>423.204987</td>\n",
              "      <td>435.790985</td>\n",
              "      <td>402.152008</td>\n",
              "      <td>398.821014</td>\n",
              "      <td>408.903992</td>\n",
              "      <td>394.795990</td>\n",
              "    </tr>\n",
              "  </tbody>\n",
              "</table>\n",
              "</div>\n",
              "      <button class=\"colab-df-convert\" onclick=\"convertToInteractive('df-22141b8b-691c-49c3-aa1b-8e1a3b12eb11')\"\n",
              "              title=\"Convert this dataframe to an interactive table.\"\n",
              "              style=\"display:none;\">\n",
              "        \n",
              "  <svg xmlns=\"http://www.w3.org/2000/svg\" height=\"24px\"viewBox=\"0 0 24 24\"\n",
              "       width=\"24px\">\n",
              "    <path d=\"M0 0h24v24H0V0z\" fill=\"none\"/>\n",
              "    <path d=\"M18.56 5.44l.94 2.06.94-2.06 2.06-.94-2.06-.94-.94-2.06-.94 2.06-2.06.94zm-11 1L8.5 8.5l.94-2.06 2.06-.94-2.06-.94L8.5 2.5l-.94 2.06-2.06.94zm10 10l.94 2.06.94-2.06 2.06-.94-2.06-.94-.94-2.06-.94 2.06-2.06.94z\"/><path d=\"M17.41 7.96l-1.37-1.37c-.4-.4-.92-.59-1.43-.59-.52 0-1.04.2-1.43.59L10.3 9.45l-7.72 7.72c-.78.78-.78 2.05 0 2.83L4 21.41c.39.39.9.59 1.41.59.51 0 1.02-.2 1.41-.59l7.78-7.78 2.81-2.81c.8-.78.8-2.07 0-2.86zM5.41 20L4 18.59l7.72-7.72 1.47 1.35L5.41 20z\"/>\n",
              "  </svg>\n",
              "      </button>\n",
              "      \n",
              "  <style>\n",
              "    .colab-df-container {\n",
              "      display:flex;\n",
              "      flex-wrap:wrap;\n",
              "      gap: 12px;\n",
              "    }\n",
              "\n",
              "    .colab-df-convert {\n",
              "      background-color: #E8F0FE;\n",
              "      border: none;\n",
              "      border-radius: 50%;\n",
              "      cursor: pointer;\n",
              "      display: none;\n",
              "      fill: #1967D2;\n",
              "      height: 32px;\n",
              "      padding: 0 0 0 0;\n",
              "      width: 32px;\n",
              "    }\n",
              "\n",
              "    .colab-df-convert:hover {\n",
              "      background-color: #E2EBFA;\n",
              "      box-shadow: 0px 1px 2px rgba(60, 64, 67, 0.3), 0px 1px 3px 1px rgba(60, 64, 67, 0.15);\n",
              "      fill: #174EA6;\n",
              "    }\n",
              "\n",
              "    [theme=dark] .colab-df-convert {\n",
              "      background-color: #3B4455;\n",
              "      fill: #D2E3FC;\n",
              "    }\n",
              "\n",
              "    [theme=dark] .colab-df-convert:hover {\n",
              "      background-color: #434B5C;\n",
              "      box-shadow: 0px 1px 3px 1px rgba(0, 0, 0, 0.15);\n",
              "      filter: drop-shadow(0px 1px 2px rgba(0, 0, 0, 0.3));\n",
              "      fill: #FFFFFF;\n",
              "    }\n",
              "  </style>\n",
              "\n",
              "      <script>\n",
              "        const buttonEl =\n",
              "          document.querySelector('#df-22141b8b-691c-49c3-aa1b-8e1a3b12eb11 button.colab-df-convert');\n",
              "        buttonEl.style.display =\n",
              "          google.colab.kernel.accessAllowed ? 'block' : 'none';\n",
              "\n",
              "        async function convertToInteractive(key) {\n",
              "          const element = document.querySelector('#df-22141b8b-691c-49c3-aa1b-8e1a3b12eb11');\n",
              "          const dataTable =\n",
              "            await google.colab.kernel.invokeFunction('convertToInteractive',\n",
              "                                                     [key], {});\n",
              "          if (!dataTable) return;\n",
              "\n",
              "          const docLinkHtml = 'Like what you see? Visit the ' +\n",
              "            '<a target=\"_blank\" href=https://colab.research.google.com/notebooks/data_table.ipynb>data table notebook</a>'\n",
              "            + ' to learn more about interactive tables.';\n",
              "          element.innerHTML = '';\n",
              "          dataTable['output_type'] = 'display_data';\n",
              "          await google.colab.output.renderOutput(dataTable, element);\n",
              "          const docLink = document.createElement('div');\n",
              "          docLink.innerHTML = docLinkHtml;\n",
              "          element.appendChild(docLink);\n",
              "        }\n",
              "      </script>\n",
              "    </div>\n",
              "  </div>\n",
              "  "
            ]
          },
          "metadata": {},
          "execution_count": 43
        }
      ]
    },
    {
      "cell_type": "code",
      "source": [
        "# Let's create X & y, remove the NaN's and convert to float32 to prevent TensorFlow errors \n",
        "X = bitcoin_prices_windowed.dropna().drop(\"Price\", axis=1).astype(np.float32) \n",
        "y = bitcoin_prices_windowed.dropna()[\"Price\"].astype(np.float32)\n",
        "X.head()\n"
      ],
      "metadata": {
        "id": "63zQVsA7eiH-",
        "colab": {
          "base_uri": "https://localhost:8080/",
          "height": 237
        },
        "outputId": "44989c8f-171a-48a2-8ddc-39799237f7e8"
      },
      "execution_count": 44,
      "outputs": [
        {
          "output_type": "execute_result",
          "data": {
            "text/plain": [
              "            block_reward     Price+1     Price+2     Price+3     Price+4  \\\n",
              "Date                                                                       \n",
              "2014-09-24          25.0  435.790985  402.152008  398.821014  408.903992   \n",
              "2014-09-25          25.0  423.204987  435.790985  402.152008  398.821014   \n",
              "2014-09-26          25.0  411.574005  423.204987  435.790985  402.152008   \n",
              "2014-09-27          25.0  404.424988  411.574005  423.204987  435.790985   \n",
              "2014-09-28          25.0  399.519989  404.424988  411.574005  423.204987   \n",
              "\n",
              "               Price+5     Price+6     Price+7  \n",
              "Date                                            \n",
              "2014-09-24  394.795990  424.440002  457.334015  \n",
              "2014-09-25  408.903992  394.795990  424.440002  \n",
              "2014-09-26  398.821014  408.903992  394.795990  \n",
              "2014-09-27  402.152008  398.821014  408.903992  \n",
              "2014-09-28  435.790985  402.152008  398.821014  "
            ],
            "text/html": [
              "\n",
              "  <div id=\"df-cf609a7f-4c06-478a-9aec-dbf145845a96\">\n",
              "    <div class=\"colab-df-container\">\n",
              "      <div>\n",
              "<style scoped>\n",
              "    .dataframe tbody tr th:only-of-type {\n",
              "        vertical-align: middle;\n",
              "    }\n",
              "\n",
              "    .dataframe tbody tr th {\n",
              "        vertical-align: top;\n",
              "    }\n",
              "\n",
              "    .dataframe thead th {\n",
              "        text-align: right;\n",
              "    }\n",
              "</style>\n",
              "<table border=\"1\" class=\"dataframe\">\n",
              "  <thead>\n",
              "    <tr style=\"text-align: right;\">\n",
              "      <th></th>\n",
              "      <th>block_reward</th>\n",
              "      <th>Price+1</th>\n",
              "      <th>Price+2</th>\n",
              "      <th>Price+3</th>\n",
              "      <th>Price+4</th>\n",
              "      <th>Price+5</th>\n",
              "      <th>Price+6</th>\n",
              "      <th>Price+7</th>\n",
              "    </tr>\n",
              "    <tr>\n",
              "      <th>Date</th>\n",
              "      <th></th>\n",
              "      <th></th>\n",
              "      <th></th>\n",
              "      <th></th>\n",
              "      <th></th>\n",
              "      <th></th>\n",
              "      <th></th>\n",
              "      <th></th>\n",
              "    </tr>\n",
              "  </thead>\n",
              "  <tbody>\n",
              "    <tr>\n",
              "      <th>2014-09-24</th>\n",
              "      <td>25.0</td>\n",
              "      <td>435.790985</td>\n",
              "      <td>402.152008</td>\n",
              "      <td>398.821014</td>\n",
              "      <td>408.903992</td>\n",
              "      <td>394.795990</td>\n",
              "      <td>424.440002</td>\n",
              "      <td>457.334015</td>\n",
              "    </tr>\n",
              "    <tr>\n",
              "      <th>2014-09-25</th>\n",
              "      <td>25.0</td>\n",
              "      <td>423.204987</td>\n",
              "      <td>435.790985</td>\n",
              "      <td>402.152008</td>\n",
              "      <td>398.821014</td>\n",
              "      <td>408.903992</td>\n",
              "      <td>394.795990</td>\n",
              "      <td>424.440002</td>\n",
              "    </tr>\n",
              "    <tr>\n",
              "      <th>2014-09-26</th>\n",
              "      <td>25.0</td>\n",
              "      <td>411.574005</td>\n",
              "      <td>423.204987</td>\n",
              "      <td>435.790985</td>\n",
              "      <td>402.152008</td>\n",
              "      <td>398.821014</td>\n",
              "      <td>408.903992</td>\n",
              "      <td>394.795990</td>\n",
              "    </tr>\n",
              "    <tr>\n",
              "      <th>2014-09-27</th>\n",
              "      <td>25.0</td>\n",
              "      <td>404.424988</td>\n",
              "      <td>411.574005</td>\n",
              "      <td>423.204987</td>\n",
              "      <td>435.790985</td>\n",
              "      <td>402.152008</td>\n",
              "      <td>398.821014</td>\n",
              "      <td>408.903992</td>\n",
              "    </tr>\n",
              "    <tr>\n",
              "      <th>2014-09-28</th>\n",
              "      <td>25.0</td>\n",
              "      <td>399.519989</td>\n",
              "      <td>404.424988</td>\n",
              "      <td>411.574005</td>\n",
              "      <td>423.204987</td>\n",
              "      <td>435.790985</td>\n",
              "      <td>402.152008</td>\n",
              "      <td>398.821014</td>\n",
              "    </tr>\n",
              "  </tbody>\n",
              "</table>\n",
              "</div>\n",
              "      <button class=\"colab-df-convert\" onclick=\"convertToInteractive('df-cf609a7f-4c06-478a-9aec-dbf145845a96')\"\n",
              "              title=\"Convert this dataframe to an interactive table.\"\n",
              "              style=\"display:none;\">\n",
              "        \n",
              "  <svg xmlns=\"http://www.w3.org/2000/svg\" height=\"24px\"viewBox=\"0 0 24 24\"\n",
              "       width=\"24px\">\n",
              "    <path d=\"M0 0h24v24H0V0z\" fill=\"none\"/>\n",
              "    <path d=\"M18.56 5.44l.94 2.06.94-2.06 2.06-.94-2.06-.94-.94-2.06-.94 2.06-2.06.94zm-11 1L8.5 8.5l.94-2.06 2.06-.94-2.06-.94L8.5 2.5l-.94 2.06-2.06.94zm10 10l.94 2.06.94-2.06 2.06-.94-2.06-.94-.94-2.06-.94 2.06-2.06.94z\"/><path d=\"M17.41 7.96l-1.37-1.37c-.4-.4-.92-.59-1.43-.59-.52 0-1.04.2-1.43.59L10.3 9.45l-7.72 7.72c-.78.78-.78 2.05 0 2.83L4 21.41c.39.39.9.59 1.41.59.51 0 1.02-.2 1.41-.59l7.78-7.78 2.81-2.81c.8-.78.8-2.07 0-2.86zM5.41 20L4 18.59l7.72-7.72 1.47 1.35L5.41 20z\"/>\n",
              "  </svg>\n",
              "      </button>\n",
              "      \n",
              "  <style>\n",
              "    .colab-df-container {\n",
              "      display:flex;\n",
              "      flex-wrap:wrap;\n",
              "      gap: 12px;\n",
              "    }\n",
              "\n",
              "    .colab-df-convert {\n",
              "      background-color: #E8F0FE;\n",
              "      border: none;\n",
              "      border-radius: 50%;\n",
              "      cursor: pointer;\n",
              "      display: none;\n",
              "      fill: #1967D2;\n",
              "      height: 32px;\n",
              "      padding: 0 0 0 0;\n",
              "      width: 32px;\n",
              "    }\n",
              "\n",
              "    .colab-df-convert:hover {\n",
              "      background-color: #E2EBFA;\n",
              "      box-shadow: 0px 1px 2px rgba(60, 64, 67, 0.3), 0px 1px 3px 1px rgba(60, 64, 67, 0.15);\n",
              "      fill: #174EA6;\n",
              "    }\n",
              "\n",
              "    [theme=dark] .colab-df-convert {\n",
              "      background-color: #3B4455;\n",
              "      fill: #D2E3FC;\n",
              "    }\n",
              "\n",
              "    [theme=dark] .colab-df-convert:hover {\n",
              "      background-color: #434B5C;\n",
              "      box-shadow: 0px 1px 3px 1px rgba(0, 0, 0, 0.15);\n",
              "      filter: drop-shadow(0px 1px 2px rgba(0, 0, 0, 0.3));\n",
              "      fill: #FFFFFF;\n",
              "    }\n",
              "  </style>\n",
              "\n",
              "      <script>\n",
              "        const buttonEl =\n",
              "          document.querySelector('#df-cf609a7f-4c06-478a-9aec-dbf145845a96 button.colab-df-convert');\n",
              "        buttonEl.style.display =\n",
              "          google.colab.kernel.accessAllowed ? 'block' : 'none';\n",
              "\n",
              "        async function convertToInteractive(key) {\n",
              "          const element = document.querySelector('#df-cf609a7f-4c06-478a-9aec-dbf145845a96');\n",
              "          const dataTable =\n",
              "            await google.colab.kernel.invokeFunction('convertToInteractive',\n",
              "                                                     [key], {});\n",
              "          if (!dataTable) return;\n",
              "\n",
              "          const docLinkHtml = 'Like what you see? Visit the ' +\n",
              "            '<a target=\"_blank\" href=https://colab.research.google.com/notebooks/data_table.ipynb>data table notebook</a>'\n",
              "            + ' to learn more about interactive tables.';\n",
              "          element.innerHTML = '';\n",
              "          dataTable['output_type'] = 'display_data';\n",
              "          await google.colab.output.renderOutput(dataTable, element);\n",
              "          const docLink = document.createElement('div');\n",
              "          docLink.innerHTML = docLinkHtml;\n",
              "          element.appendChild(docLink);\n",
              "        }\n",
              "      </script>\n",
              "    </div>\n",
              "  </div>\n",
              "  "
            ]
          },
          "metadata": {},
          "execution_count": 44
        }
      ]
    },
    {
      "cell_type": "code",
      "source": [
        "y.head()\n"
      ],
      "metadata": {
        "id": "fxbUyy7Vemr1",
        "colab": {
          "base_uri": "https://localhost:8080/"
        },
        "outputId": "6d04fbcb-d376-407d-cd01-63f2c7091920"
      },
      "execution_count": 45,
      "outputs": [
        {
          "output_type": "execute_result",
          "data": {
            "text/plain": [
              "Date\n",
              "2014-09-24    423.204987\n",
              "2014-09-25    411.574005\n",
              "2014-09-26    404.424988\n",
              "2014-09-27    399.519989\n",
              "2014-09-28    377.181000\n",
              "Name: Price, dtype: float32"
            ]
          },
          "metadata": {},
          "execution_count": 45
        }
      ]
    },
    {
      "cell_type": "code",
      "source": [
        "split_size = int(len(X) * 0.8)\n",
        "X_train, y_train = X[:split_size], y[:split_size]\n",
        "X_test, y_test = X[split_size:], y[split_size:]\n",
        "len(X_train), len(y_train), len(X_test), len(y_test)\n"
      ],
      "metadata": {
        "id": "Ugk0YTjEeoxG",
        "colab": {
          "base_uri": "https://localhost:8080/"
        },
        "outputId": "46a3ca4f-7ad8-4b3f-d237-aa1c05257939"
      },
      "execution_count": 46,
      "outputs": [
        {
          "output_type": "execute_result",
          "data": {
            "text/plain": [
              "(2220, 2220, 555, 555)"
            ]
          },
          "metadata": {},
          "execution_count": 46
        }
      ]
    },
    {
      "cell_type": "code",
      "source": [
        "# Model 3 (Window 7 horizon 1 Multivaraite)\n",
        "tf.random.set_seed(42)\n",
        "\n",
        "model_3 = tf.keras.Sequential([\n",
        "  layers.Dense(128, activation=\"relu\"),\n",
        "  layers.Dense(HORIZON)\n",
        "], name=\"model_3_dense_multivariate\")\n",
        "\n",
        "# Compile\n",
        "model_3.compile(loss=\"mae\",\n",
        "                optimizer=tf.keras.optimizers.Adam())\n",
        "\n",
        "# Fit\n",
        "model_3.fit(X_train, y_train,\n",
        "            epochs=100,\n",
        "            batch_size=128,\n",
        "            verbose=0, \n",
        "            validation_data=(X_test, y_test),\n",
        "            callbacks=[create_model_checkpoint(model_name=model_3.name)])"
      ],
      "metadata": {
        "id": "43nmOMH2evo3",
        "colab": {
          "base_uri": "https://localhost:8080/"
        },
        "outputId": "5cffe2d4-7120-45d0-b50f-adbaebec7b38"
      },
      "execution_count": 47,
      "outputs": [
        {
          "output_type": "stream",
          "name": "stdout",
          "text": [
            "INFO:tensorflow:Assets written to: model_experiments/model_3_dense_multivariate/assets\n",
            "INFO:tensorflow:Assets written to: model_experiments/model_3_dense_multivariate/assets\n",
            "INFO:tensorflow:Assets written to: model_experiments/model_3_dense_multivariate/assets\n",
            "INFO:tensorflow:Assets written to: model_experiments/model_3_dense_multivariate/assets\n",
            "INFO:tensorflow:Assets written to: model_experiments/model_3_dense_multivariate/assets\n",
            "INFO:tensorflow:Assets written to: model_experiments/model_3_dense_multivariate/assets\n",
            "INFO:tensorflow:Assets written to: model_experiments/model_3_dense_multivariate/assets\n",
            "INFO:tensorflow:Assets written to: model_experiments/model_3_dense_multivariate/assets\n",
            "INFO:tensorflow:Assets written to: model_experiments/model_3_dense_multivariate/assets\n",
            "INFO:tensorflow:Assets written to: model_experiments/model_3_dense_multivariate/assets\n",
            "INFO:tensorflow:Assets written to: model_experiments/model_3_dense_multivariate/assets\n",
            "INFO:tensorflow:Assets written to: model_experiments/model_3_dense_multivariate/assets\n",
            "INFO:tensorflow:Assets written to: model_experiments/model_3_dense_multivariate/assets\n",
            "INFO:tensorflow:Assets written to: model_experiments/model_3_dense_multivariate/assets\n",
            "INFO:tensorflow:Assets written to: model_experiments/model_3_dense_multivariate/assets\n",
            "INFO:tensorflow:Assets written to: model_experiments/model_3_dense_multivariate/assets\n",
            "INFO:tensorflow:Assets written to: model_experiments/model_3_dense_multivariate/assets\n",
            "INFO:tensorflow:Assets written to: model_experiments/model_3_dense_multivariate/assets\n",
            "INFO:tensorflow:Assets written to: model_experiments/model_3_dense_multivariate/assets\n",
            "INFO:tensorflow:Assets written to: model_experiments/model_3_dense_multivariate/assets\n",
            "INFO:tensorflow:Assets written to: model_experiments/model_3_dense_multivariate/assets\n",
            "INFO:tensorflow:Assets written to: model_experiments/model_3_dense_multivariate/assets\n",
            "INFO:tensorflow:Assets written to: model_experiments/model_3_dense_multivariate/assets\n",
            "INFO:tensorflow:Assets written to: model_experiments/model_3_dense_multivariate/assets\n",
            "INFO:tensorflow:Assets written to: model_experiments/model_3_dense_multivariate/assets\n",
            "INFO:tensorflow:Assets written to: model_experiments/model_3_dense_multivariate/assets\n",
            "INFO:tensorflow:Assets written to: model_experiments/model_3_dense_multivariate/assets\n",
            "INFO:tensorflow:Assets written to: model_experiments/model_3_dense_multivariate/assets\n",
            "INFO:tensorflow:Assets written to: model_experiments/model_3_dense_multivariate/assets\n",
            "INFO:tensorflow:Assets written to: model_experiments/model_3_dense_multivariate/assets\n",
            "INFO:tensorflow:Assets written to: model_experiments/model_3_dense_multivariate/assets\n",
            "INFO:tensorflow:Assets written to: model_experiments/model_3_dense_multivariate/assets\n",
            "INFO:tensorflow:Assets written to: model_experiments/model_3_dense_multivariate/assets\n",
            "INFO:tensorflow:Assets written to: model_experiments/model_3_dense_multivariate/assets\n",
            "INFO:tensorflow:Assets written to: model_experiments/model_3_dense_multivariate/assets\n",
            "INFO:tensorflow:Assets written to: model_experiments/model_3_dense_multivariate/assets\n",
            "INFO:tensorflow:Assets written to: model_experiments/model_3_dense_multivariate/assets\n",
            "INFO:tensorflow:Assets written to: model_experiments/model_3_dense_multivariate/assets\n",
            "INFO:tensorflow:Assets written to: model_experiments/model_3_dense_multivariate/assets\n",
            "INFO:tensorflow:Assets written to: model_experiments/model_3_dense_multivariate/assets\n",
            "INFO:tensorflow:Assets written to: model_experiments/model_3_dense_multivariate/assets\n",
            "INFO:tensorflow:Assets written to: model_experiments/model_3_dense_multivariate/assets\n",
            "INFO:tensorflow:Assets written to: model_experiments/model_3_dense_multivariate/assets\n",
            "INFO:tensorflow:Assets written to: model_experiments/model_3_dense_multivariate/assets\n",
            "INFO:tensorflow:Assets written to: model_experiments/model_3_dense_multivariate/assets\n"
          ]
        },
        {
          "output_type": "execute_result",
          "data": {
            "text/plain": [
              "<keras.callbacks.History at 0x7fa360679f90>"
            ]
          },
          "metadata": {},
          "execution_count": 47
        }
      ]
    },
    {
      "cell_type": "code",
      "source": [
        "# Load best model\n",
        "model_3 = tf.keras.models.load_model(\"model_experiments/model_3_dense_multivariate\")\n",
        "model_3.evaluate(X_test, y_test)"
      ],
      "metadata": {
        "id": "bGhTOu7_gKmf",
        "colab": {
          "base_uri": "https://localhost:8080/"
        },
        "outputId": "b39a69c0-f20b-4e93-d060-38df3e339a14"
      },
      "execution_count": 48,
      "outputs": [
        {
          "output_type": "stream",
          "name": "stdout",
          "text": [
            "18/18 [==============================] - 0s 2ms/step - loss: 1216.1539\n"
          ]
        },
        {
          "output_type": "execute_result",
          "data": {
            "text/plain": [
              "1216.1539306640625"
            ]
          },
          "metadata": {},
          "execution_count": 48
        }
      ]
    },
    {
      "cell_type": "code",
      "source": [
        "# Make prediction\n",
        "model_3_preds = tf.squeeze(model_3.predict(X_test))\n"
      ],
      "metadata": {
        "id": "oth3rCFPgWOh"
      },
      "execution_count": 49,
      "outputs": []
    },
    {
      "cell_type": "code",
      "source": [
        "# Evaluate\n",
        "model_3_results = evaluate_preds(y_true=tf.squeeze(test_labels),\n",
        "                                 y_pred=model_3_preds)\n",
        "model_3_results"
      ],
      "metadata": {
        "colab": {
          "base_uri": "https://localhost:8080/"
        },
        "id": "sWMEEsFzWEcG",
        "outputId": "b3991374-9b6a-4ad6-f1fc-754061e41145"
      },
      "execution_count": 50,
      "outputs": [
        {
          "output_type": "execute_result",
          "data": {
            "text/plain": [
              "{'mae': 1216.1538,\n",
              " 'mape': 2.9028814,\n",
              " 'mase': 1.008041,\n",
              " 'mse': 2865356.0,\n",
              " 'rmse': 1692.7362}"
            ]
          },
          "metadata": {},
          "execution_count": 50
        }
      ]
    },
    {
      "cell_type": "markdown",
      "source": [
        "## Model 4 N-BEATS"
      ],
      "metadata": {
        "id": "7l7y8GMxQ9RB"
      }
    },
    {
      "cell_type": "code",
      "source": [
        "# Create NBeatsBlock custom layer \n",
        "class NBeatsBlock(tf.keras.layers.Layer):\n",
        "  def __init__(self, # the constructor takes all the hyperparameters for the layer\n",
        "               input_size: int,\n",
        "               theta_size: int,\n",
        "               horizon: int,\n",
        "               n_neurons: int,\n",
        "               n_layers: int,\n",
        "               **kwargs): # the **kwargs argument takes care of all of the arguments for the parent class (input_shape, trainable, name)\n",
        "    super().__init__(**kwargs)\n",
        "    self.input_size = input_size\n",
        "    self.theta_size = theta_size\n",
        "    self.horizon = horizon\n",
        "    self.n_neurons = n_neurons\n",
        "    self.n_layers = n_layers\n",
        "\n",
        "    # Block contains stack of 4 fully connected layers each has ReLU activation\n",
        "    self.hidden = [tf.keras.layers.Dense(n_neurons, activation=\"relu\") for _ in range(n_layers)]\n",
        "    # Output of block is a theta layer with linear activation\n",
        "    self.theta_layer = tf.keras.layers.Dense(theta_size, activation=\"linear\", name=\"theta\")\n",
        "\n",
        "  def call(self, inputs): # the call method is what runs when the layer is called \n",
        "    x = inputs \n",
        "    for layer in self.hidden: # pass inputs through each hidden layer \n",
        "      x = layer(x)\n",
        "    theta = self.theta_layer(x) \n",
        "    # Output the backcast and forecast from theta\n",
        "    backcast, forecast = theta[:, :self.input_size], theta[:, -self.horizon:]\n",
        "    return backcast, forecast"
      ],
      "metadata": {
        "id": "HHymJ43ORDJl"
      },
      "execution_count": 51,
      "outputs": []
    },
    {
      "cell_type": "code",
      "source": [
        "# Set up dummy NBeatsBlock layer to represent inputs and outputs\n",
        "dummy_nbeats_block_layer = NBeatsBlock(input_size=WINDOW_SIZE, \n",
        "                                       theta_size=WINDOW_SIZE+HORIZON, # backcast + forecast \n",
        "                                       horizon=HORIZON,\n",
        "                                       n_neurons=128,\n",
        "                                       n_layers=4)"
      ],
      "metadata": {
        "id": "UtD2wTm3RFsG"
      },
      "execution_count": 52,
      "outputs": []
    },
    {
      "cell_type": "code",
      "source": [
        "# Create dummy inputs (have to be same size as input_size)\n",
        "dummy_inputs = tf.expand_dims(tf.range(WINDOW_SIZE) + 1, axis=0) # input shape to the model has to reflect Dense layer input requirements (ndim=2)\n",
        "dummy_inputs"
      ],
      "metadata": {
        "colab": {
          "base_uri": "https://localhost:8080/"
        },
        "id": "5faQw-y8RHP0",
        "outputId": "b2b87ad9-f008-4e45-f44c-876f4af85062"
      },
      "execution_count": 53,
      "outputs": [
        {
          "output_type": "execute_result",
          "data": {
            "text/plain": [
              "<tf.Tensor: shape=(1, 7), dtype=int32, numpy=array([[1, 2, 3, 4, 5, 6, 7]], dtype=int32)>"
            ]
          },
          "metadata": {},
          "execution_count": 53
        }
      ]
    },
    {
      "cell_type": "code",
      "source": [
        "# Pass dummy inputs to dummy NBeatsBlock layer\n",
        "backcast, forecast = dummy_nbeats_block_layer(dummy_inputs)\n",
        "# These are the activation outputs of the theta layer (they'll be random due to no training of the model)\n",
        "print(f\"Backcast: {tf.squeeze(backcast.numpy())}\")\n",
        "print(f\"Forecast: {tf.squeeze(forecast.numpy())}\")"
      ],
      "metadata": {
        "colab": {
          "base_uri": "https://localhost:8080/"
        },
        "id": "G8mjy4sVRJO5",
        "outputId": "b481e5a3-9f92-4d9e-f43b-63bcfb97255a"
      },
      "execution_count": 54,
      "outputs": [
        {
          "output_type": "stream",
          "name": "stdout",
          "text": [
            "Backcast: [ 0.19014993  0.83798355 -0.3287001   0.2515993  -0.47540283 -0.7783665\n",
            " -0.5299447 ]\n",
            "Forecast: -0.7554212808609009\n"
          ]
        }
      ]
    },
    {
      "cell_type": "code",
      "source": [
        "HORIZON = 1 # how far to predict forward\n",
        "WINDOW_SIZE = 7 # how far to lookback"
      ],
      "metadata": {
        "id": "HZatD0q0RPJr"
      },
      "execution_count": 55,
      "outputs": []
    },
    {
      "cell_type": "code",
      "source": [
        "# Create NBEATS data inputs (NBEATS works with univariate time series)\n",
        "bitcoin_prices.head()"
      ],
      "metadata": {
        "colab": {
          "base_uri": "https://localhost:8080/",
          "height": 237
        },
        "id": "0uBSpD-ISYZY",
        "outputId": "7c8a0001-cd92-4169-88ca-c43bda6a42f0"
      },
      "execution_count": 56,
      "outputs": [
        {
          "output_type": "execute_result",
          "data": {
            "text/plain": [
              "                 Price\n",
              "Date                  \n",
              "2014-09-17  457.334015\n",
              "2014-09-18  424.440002\n",
              "2014-09-19  394.795990\n",
              "2014-09-20  408.903992\n",
              "2014-09-21  398.821014"
            ],
            "text/html": [
              "\n",
              "  <div id=\"df-f83bb419-8d1e-4933-b874-cbc1847f57d1\">\n",
              "    <div class=\"colab-df-container\">\n",
              "      <div>\n",
              "<style scoped>\n",
              "    .dataframe tbody tr th:only-of-type {\n",
              "        vertical-align: middle;\n",
              "    }\n",
              "\n",
              "    .dataframe tbody tr th {\n",
              "        vertical-align: top;\n",
              "    }\n",
              "\n",
              "    .dataframe thead th {\n",
              "        text-align: right;\n",
              "    }\n",
              "</style>\n",
              "<table border=\"1\" class=\"dataframe\">\n",
              "  <thead>\n",
              "    <tr style=\"text-align: right;\">\n",
              "      <th></th>\n",
              "      <th>Price</th>\n",
              "    </tr>\n",
              "    <tr>\n",
              "      <th>Date</th>\n",
              "      <th></th>\n",
              "    </tr>\n",
              "  </thead>\n",
              "  <tbody>\n",
              "    <tr>\n",
              "      <th>2014-09-17</th>\n",
              "      <td>457.334015</td>\n",
              "    </tr>\n",
              "    <tr>\n",
              "      <th>2014-09-18</th>\n",
              "      <td>424.440002</td>\n",
              "    </tr>\n",
              "    <tr>\n",
              "      <th>2014-09-19</th>\n",
              "      <td>394.795990</td>\n",
              "    </tr>\n",
              "    <tr>\n",
              "      <th>2014-09-20</th>\n",
              "      <td>408.903992</td>\n",
              "    </tr>\n",
              "    <tr>\n",
              "      <th>2014-09-21</th>\n",
              "      <td>398.821014</td>\n",
              "    </tr>\n",
              "  </tbody>\n",
              "</table>\n",
              "</div>\n",
              "      <button class=\"colab-df-convert\" onclick=\"convertToInteractive('df-f83bb419-8d1e-4933-b874-cbc1847f57d1')\"\n",
              "              title=\"Convert this dataframe to an interactive table.\"\n",
              "              style=\"display:none;\">\n",
              "        \n",
              "  <svg xmlns=\"http://www.w3.org/2000/svg\" height=\"24px\"viewBox=\"0 0 24 24\"\n",
              "       width=\"24px\">\n",
              "    <path d=\"M0 0h24v24H0V0z\" fill=\"none\"/>\n",
              "    <path d=\"M18.56 5.44l.94 2.06.94-2.06 2.06-.94-2.06-.94-.94-2.06-.94 2.06-2.06.94zm-11 1L8.5 8.5l.94-2.06 2.06-.94-2.06-.94L8.5 2.5l-.94 2.06-2.06.94zm10 10l.94 2.06.94-2.06 2.06-.94-2.06-.94-.94-2.06-.94 2.06-2.06.94z\"/><path d=\"M17.41 7.96l-1.37-1.37c-.4-.4-.92-.59-1.43-.59-.52 0-1.04.2-1.43.59L10.3 9.45l-7.72 7.72c-.78.78-.78 2.05 0 2.83L4 21.41c.39.39.9.59 1.41.59.51 0 1.02-.2 1.41-.59l7.78-7.78 2.81-2.81c.8-.78.8-2.07 0-2.86zM5.41 20L4 18.59l7.72-7.72 1.47 1.35L5.41 20z\"/>\n",
              "  </svg>\n",
              "      </button>\n",
              "      \n",
              "  <style>\n",
              "    .colab-df-container {\n",
              "      display:flex;\n",
              "      flex-wrap:wrap;\n",
              "      gap: 12px;\n",
              "    }\n",
              "\n",
              "    .colab-df-convert {\n",
              "      background-color: #E8F0FE;\n",
              "      border: none;\n",
              "      border-radius: 50%;\n",
              "      cursor: pointer;\n",
              "      display: none;\n",
              "      fill: #1967D2;\n",
              "      height: 32px;\n",
              "      padding: 0 0 0 0;\n",
              "      width: 32px;\n",
              "    }\n",
              "\n",
              "    .colab-df-convert:hover {\n",
              "      background-color: #E2EBFA;\n",
              "      box-shadow: 0px 1px 2px rgba(60, 64, 67, 0.3), 0px 1px 3px 1px rgba(60, 64, 67, 0.15);\n",
              "      fill: #174EA6;\n",
              "    }\n",
              "\n",
              "    [theme=dark] .colab-df-convert {\n",
              "      background-color: #3B4455;\n",
              "      fill: #D2E3FC;\n",
              "    }\n",
              "\n",
              "    [theme=dark] .colab-df-convert:hover {\n",
              "      background-color: #434B5C;\n",
              "      box-shadow: 0px 1px 3px 1px rgba(0, 0, 0, 0.15);\n",
              "      filter: drop-shadow(0px 1px 2px rgba(0, 0, 0, 0.3));\n",
              "      fill: #FFFFFF;\n",
              "    }\n",
              "  </style>\n",
              "\n",
              "      <script>\n",
              "        const buttonEl =\n",
              "          document.querySelector('#df-f83bb419-8d1e-4933-b874-cbc1847f57d1 button.colab-df-convert');\n",
              "        buttonEl.style.display =\n",
              "          google.colab.kernel.accessAllowed ? 'block' : 'none';\n",
              "\n",
              "        async function convertToInteractive(key) {\n",
              "          const element = document.querySelector('#df-f83bb419-8d1e-4933-b874-cbc1847f57d1');\n",
              "          const dataTable =\n",
              "            await google.colab.kernel.invokeFunction('convertToInteractive',\n",
              "                                                     [key], {});\n",
              "          if (!dataTable) return;\n",
              "\n",
              "          const docLinkHtml = 'Like what you see? Visit the ' +\n",
              "            '<a target=\"_blank\" href=https://colab.research.google.com/notebooks/data_table.ipynb>data table notebook</a>'\n",
              "            + ' to learn more about interactive tables.';\n",
              "          element.innerHTML = '';\n",
              "          dataTable['output_type'] = 'display_data';\n",
              "          await google.colab.output.renderOutput(dataTable, element);\n",
              "          const docLink = document.createElement('div');\n",
              "          docLink.innerHTML = docLinkHtml;\n",
              "          element.appendChild(docLink);\n",
              "        }\n",
              "      </script>\n",
              "    </div>\n",
              "  </div>\n",
              "  "
            ]
          },
          "metadata": {},
          "execution_count": 56
        }
      ]
    },
    {
      "cell_type": "code",
      "source": [
        "# Add windowed columns\n",
        "bitcoin_prices_nbeats = bitcoin_prices.copy()\n",
        "for i in range(WINDOW_SIZE):\n",
        "  bitcoin_prices_nbeats[f\"Price+{i+1}\"] = bitcoin_prices_nbeats[\"Price\"].shift(periods=i+1)\n",
        "bitcoin_prices_nbeats.dropna().head()"
      ],
      "metadata": {
        "colab": {
          "base_uri": "https://localhost:8080/",
          "height": 237
        },
        "id": "07tNwsTmSZHW",
        "outputId": "212e4b5e-9be3-4439-b381-614e6514f2b7"
      },
      "execution_count": 57,
      "outputs": [
        {
          "output_type": "execute_result",
          "data": {
            "text/plain": [
              "                 Price     Price+1     Price+2     Price+3     Price+4  \\\n",
              "Date                                                                     \n",
              "2014-09-24  423.204987  435.790985  402.152008  398.821014  408.903992   \n",
              "2014-09-25  411.574005  423.204987  435.790985  402.152008  398.821014   \n",
              "2014-09-26  404.424988  411.574005  423.204987  435.790985  402.152008   \n",
              "2014-09-27  399.519989  404.424988  411.574005  423.204987  435.790985   \n",
              "2014-09-28  377.181000  399.519989  404.424988  411.574005  423.204987   \n",
              "\n",
              "               Price+5     Price+6     Price+7  \n",
              "Date                                            \n",
              "2014-09-24  394.795990  424.440002  457.334015  \n",
              "2014-09-25  408.903992  394.795990  424.440002  \n",
              "2014-09-26  398.821014  408.903992  394.795990  \n",
              "2014-09-27  402.152008  398.821014  408.903992  \n",
              "2014-09-28  435.790985  402.152008  398.821014  "
            ],
            "text/html": [
              "\n",
              "  <div id=\"df-cb73328d-304c-446c-87b3-6fad28643ecd\">\n",
              "    <div class=\"colab-df-container\">\n",
              "      <div>\n",
              "<style scoped>\n",
              "    .dataframe tbody tr th:only-of-type {\n",
              "        vertical-align: middle;\n",
              "    }\n",
              "\n",
              "    .dataframe tbody tr th {\n",
              "        vertical-align: top;\n",
              "    }\n",
              "\n",
              "    .dataframe thead th {\n",
              "        text-align: right;\n",
              "    }\n",
              "</style>\n",
              "<table border=\"1\" class=\"dataframe\">\n",
              "  <thead>\n",
              "    <tr style=\"text-align: right;\">\n",
              "      <th></th>\n",
              "      <th>Price</th>\n",
              "      <th>Price+1</th>\n",
              "      <th>Price+2</th>\n",
              "      <th>Price+3</th>\n",
              "      <th>Price+4</th>\n",
              "      <th>Price+5</th>\n",
              "      <th>Price+6</th>\n",
              "      <th>Price+7</th>\n",
              "    </tr>\n",
              "    <tr>\n",
              "      <th>Date</th>\n",
              "      <th></th>\n",
              "      <th></th>\n",
              "      <th></th>\n",
              "      <th></th>\n",
              "      <th></th>\n",
              "      <th></th>\n",
              "      <th></th>\n",
              "      <th></th>\n",
              "    </tr>\n",
              "  </thead>\n",
              "  <tbody>\n",
              "    <tr>\n",
              "      <th>2014-09-24</th>\n",
              "      <td>423.204987</td>\n",
              "      <td>435.790985</td>\n",
              "      <td>402.152008</td>\n",
              "      <td>398.821014</td>\n",
              "      <td>408.903992</td>\n",
              "      <td>394.795990</td>\n",
              "      <td>424.440002</td>\n",
              "      <td>457.334015</td>\n",
              "    </tr>\n",
              "    <tr>\n",
              "      <th>2014-09-25</th>\n",
              "      <td>411.574005</td>\n",
              "      <td>423.204987</td>\n",
              "      <td>435.790985</td>\n",
              "      <td>402.152008</td>\n",
              "      <td>398.821014</td>\n",
              "      <td>408.903992</td>\n",
              "      <td>394.795990</td>\n",
              "      <td>424.440002</td>\n",
              "    </tr>\n",
              "    <tr>\n",
              "      <th>2014-09-26</th>\n",
              "      <td>404.424988</td>\n",
              "      <td>411.574005</td>\n",
              "      <td>423.204987</td>\n",
              "      <td>435.790985</td>\n",
              "      <td>402.152008</td>\n",
              "      <td>398.821014</td>\n",
              "      <td>408.903992</td>\n",
              "      <td>394.795990</td>\n",
              "    </tr>\n",
              "    <tr>\n",
              "      <th>2014-09-27</th>\n",
              "      <td>399.519989</td>\n",
              "      <td>404.424988</td>\n",
              "      <td>411.574005</td>\n",
              "      <td>423.204987</td>\n",
              "      <td>435.790985</td>\n",
              "      <td>402.152008</td>\n",
              "      <td>398.821014</td>\n",
              "      <td>408.903992</td>\n",
              "    </tr>\n",
              "    <tr>\n",
              "      <th>2014-09-28</th>\n",
              "      <td>377.181000</td>\n",
              "      <td>399.519989</td>\n",
              "      <td>404.424988</td>\n",
              "      <td>411.574005</td>\n",
              "      <td>423.204987</td>\n",
              "      <td>435.790985</td>\n",
              "      <td>402.152008</td>\n",
              "      <td>398.821014</td>\n",
              "    </tr>\n",
              "  </tbody>\n",
              "</table>\n",
              "</div>\n",
              "      <button class=\"colab-df-convert\" onclick=\"convertToInteractive('df-cb73328d-304c-446c-87b3-6fad28643ecd')\"\n",
              "              title=\"Convert this dataframe to an interactive table.\"\n",
              "              style=\"display:none;\">\n",
              "        \n",
              "  <svg xmlns=\"http://www.w3.org/2000/svg\" height=\"24px\"viewBox=\"0 0 24 24\"\n",
              "       width=\"24px\">\n",
              "    <path d=\"M0 0h24v24H0V0z\" fill=\"none\"/>\n",
              "    <path d=\"M18.56 5.44l.94 2.06.94-2.06 2.06-.94-2.06-.94-.94-2.06-.94 2.06-2.06.94zm-11 1L8.5 8.5l.94-2.06 2.06-.94-2.06-.94L8.5 2.5l-.94 2.06-2.06.94zm10 10l.94 2.06.94-2.06 2.06-.94-2.06-.94-.94-2.06-.94 2.06-2.06.94z\"/><path d=\"M17.41 7.96l-1.37-1.37c-.4-.4-.92-.59-1.43-.59-.52 0-1.04.2-1.43.59L10.3 9.45l-7.72 7.72c-.78.78-.78 2.05 0 2.83L4 21.41c.39.39.9.59 1.41.59.51 0 1.02-.2 1.41-.59l7.78-7.78 2.81-2.81c.8-.78.8-2.07 0-2.86zM5.41 20L4 18.59l7.72-7.72 1.47 1.35L5.41 20z\"/>\n",
              "  </svg>\n",
              "      </button>\n",
              "      \n",
              "  <style>\n",
              "    .colab-df-container {\n",
              "      display:flex;\n",
              "      flex-wrap:wrap;\n",
              "      gap: 12px;\n",
              "    }\n",
              "\n",
              "    .colab-df-convert {\n",
              "      background-color: #E8F0FE;\n",
              "      border: none;\n",
              "      border-radius: 50%;\n",
              "      cursor: pointer;\n",
              "      display: none;\n",
              "      fill: #1967D2;\n",
              "      height: 32px;\n",
              "      padding: 0 0 0 0;\n",
              "      width: 32px;\n",
              "    }\n",
              "\n",
              "    .colab-df-convert:hover {\n",
              "      background-color: #E2EBFA;\n",
              "      box-shadow: 0px 1px 2px rgba(60, 64, 67, 0.3), 0px 1px 3px 1px rgba(60, 64, 67, 0.15);\n",
              "      fill: #174EA6;\n",
              "    }\n",
              "\n",
              "    [theme=dark] .colab-df-convert {\n",
              "      background-color: #3B4455;\n",
              "      fill: #D2E3FC;\n",
              "    }\n",
              "\n",
              "    [theme=dark] .colab-df-convert:hover {\n",
              "      background-color: #434B5C;\n",
              "      box-shadow: 0px 1px 3px 1px rgba(0, 0, 0, 0.15);\n",
              "      filter: drop-shadow(0px 1px 2px rgba(0, 0, 0, 0.3));\n",
              "      fill: #FFFFFF;\n",
              "    }\n",
              "  </style>\n",
              "\n",
              "      <script>\n",
              "        const buttonEl =\n",
              "          document.querySelector('#df-cb73328d-304c-446c-87b3-6fad28643ecd button.colab-df-convert');\n",
              "        buttonEl.style.display =\n",
              "          google.colab.kernel.accessAllowed ? 'block' : 'none';\n",
              "\n",
              "        async function convertToInteractive(key) {\n",
              "          const element = document.querySelector('#df-cb73328d-304c-446c-87b3-6fad28643ecd');\n",
              "          const dataTable =\n",
              "            await google.colab.kernel.invokeFunction('convertToInteractive',\n",
              "                                                     [key], {});\n",
              "          if (!dataTable) return;\n",
              "\n",
              "          const docLinkHtml = 'Like what you see? Visit the ' +\n",
              "            '<a target=\"_blank\" href=https://colab.research.google.com/notebooks/data_table.ipynb>data table notebook</a>'\n",
              "            + ' to learn more about interactive tables.';\n",
              "          element.innerHTML = '';\n",
              "          dataTable['output_type'] = 'display_data';\n",
              "          await google.colab.output.renderOutput(dataTable, element);\n",
              "          const docLink = document.createElement('div');\n",
              "          docLink.innerHTML = docLinkHtml;\n",
              "          element.appendChild(docLink);\n",
              "        }\n",
              "      </script>\n",
              "    </div>\n",
              "  </div>\n",
              "  "
            ]
          },
          "metadata": {},
          "execution_count": 57
        }
      ]
    },
    {
      "cell_type": "code",
      "source": [
        "# Make features and labels\n",
        "X = bitcoin_prices_nbeats.dropna().drop(\"Price\", axis=1)\n",
        "y = bitcoin_prices_nbeats.dropna()[\"Price\"]\n",
        "\n",
        "# Make train and test sets\n",
        "split_size = int(len(X) * 0.8)\n",
        "X_train, y_train = X[:split_size], y[:split_size]\n",
        "X_test, y_test = X[split_size:], y[split_size:]\n",
        "len(X_train), len(y_train), len(X_test), len(y_test)"
      ],
      "metadata": {
        "colab": {
          "base_uri": "https://localhost:8080/"
        },
        "id": "3UbjF3e8SbIP",
        "outputId": "9fc1812e-6c9a-47a3-b828-b9c323e2514b"
      },
      "execution_count": 58,
      "outputs": [
        {
          "output_type": "execute_result",
          "data": {
            "text/plain": [
              "(2220, 2220, 555, 555)"
            ]
          },
          "metadata": {},
          "execution_count": 58
        }
      ]
    },
    {
      "cell_type": "code",
      "source": [
        "# 1. Turn train and test arrays into tensor Datasets\n",
        "train_features_dataset = tf.data.Dataset.from_tensor_slices(X_train)\n",
        "train_labels_dataset = tf.data.Dataset.from_tensor_slices(y_train)\n",
        "\n",
        "test_features_dataset = tf.data.Dataset.from_tensor_slices(X_test)\n",
        "test_labels_dataset = tf.data.Dataset.from_tensor_slices(y_test)\n",
        "\n",
        "# 2. Combine features & labels\n",
        "train_dataset = tf.data.Dataset.zip((train_features_dataset, train_labels_dataset))\n",
        "test_dataset = tf.data.Dataset.zip((test_features_dataset, test_labels_dataset))\n",
        "\n",
        "# 3. Batch and prefetch for optimal performance\n",
        "BATCH_SIZE = 1024 # taken from Appendix D in N-BEATS paper\n",
        "train_dataset = train_dataset.batch(BATCH_SIZE).prefetch(tf.data.AUTOTUNE)\n",
        "test_dataset = test_dataset.batch(BATCH_SIZE).prefetch(tf.data.AUTOTUNE)\n",
        "\n",
        "train_dataset, test_dataset"
      ],
      "metadata": {
        "colab": {
          "base_uri": "https://localhost:8080/"
        },
        "id": "dBTlZKBGScoY",
        "outputId": "b0cac309-c825-4998-c69f-d7a9628fa458"
      },
      "execution_count": 59,
      "outputs": [
        {
          "output_type": "execute_result",
          "data": {
            "text/plain": [
              "(<PrefetchDataset element_spec=(TensorSpec(shape=(None, 7), dtype=tf.float64, name=None), TensorSpec(shape=(None,), dtype=tf.float64, name=None))>,\n",
              " <PrefetchDataset element_spec=(TensorSpec(shape=(None, 7), dtype=tf.float64, name=None), TensorSpec(shape=(None,), dtype=tf.float64, name=None))>)"
            ]
          },
          "metadata": {},
          "execution_count": 59
        }
      ]
    },
    {
      "cell_type": "code",
      "source": [
        "# Values from N-BEATS paper Figure 1 and Table 18/Appendix D\n",
        "N_EPOCHS = 5000 # called \"Iterations\" in Table 18\n",
        "N_NEURONS = 512 # called \"Width\" in Table 18\n",
        "N_LAYERS = 4\n",
        "N_STACKS = 30\n",
        "\n",
        "INPUT_SIZE = WINDOW_SIZE * HORIZON # called \"Lookback\" in Table 18\n",
        "THETA_SIZE = INPUT_SIZE + HORIZON\n",
        "\n",
        "INPUT_SIZE, THETA_SIZE"
      ],
      "metadata": {
        "colab": {
          "base_uri": "https://localhost:8080/"
        },
        "id": "TDF30GgDSePo",
        "outputId": "8b5701dc-2da8-4a1f-9c1f-f1e9839a615a"
      },
      "execution_count": 60,
      "outputs": [
        {
          "output_type": "execute_result",
          "data": {
            "text/plain": [
              "(7, 8)"
            ]
          },
          "metadata": {},
          "execution_count": 60
        }
      ]
    },
    {
      "cell_type": "code",
      "source": [
        "# Make tensors\n",
        "tensor_1 = tf.range(10) + 10\n",
        "tensor_2 = tf.range(10)\n",
        "\n",
        "# Subtract\n",
        "subtracted = layers.subtract([tensor_1, tensor_2])\n",
        "\n",
        "# Add\n",
        "added = layers.add([tensor_1, tensor_2])\n",
        "\n",
        "print(f\"Input tensors: {tensor_1.numpy()} & {tensor_2.numpy()}\")\n",
        "print(f\"Subtracted: {subtracted.numpy()}\")\n",
        "print(f\"Added: {added.numpy()}\")"
      ],
      "metadata": {
        "colab": {
          "base_uri": "https://localhost:8080/"
        },
        "id": "rJMLhaC9ShDg",
        "outputId": "6b9faf32-7a6d-43a3-c6de-8586a9ab7cd3"
      },
      "execution_count": 61,
      "outputs": [
        {
          "output_type": "stream",
          "name": "stdout",
          "text": [
            "Input tensors: [10 11 12 13 14 15 16 17 18 19] & [0 1 2 3 4 5 6 7 8 9]\n",
            "Subtracted: [10 10 10 10 10 10 10 10 10 10]\n",
            "Added: [10 12 14 16 18 20 22 24 26 28]\n"
          ]
        }
      ]
    },
    {
      "cell_type": "code",
      "source": [
        "%%time\n",
        "\n",
        "tf.random.set_seed(42)\n",
        "\n",
        "# 1. Setup N-BEATS Block layer\n",
        "nbeats_block_layer = NBeatsBlock(input_size=INPUT_SIZE,\n",
        "                                 theta_size=THETA_SIZE,\n",
        "                                 horizon=HORIZON,\n",
        "                                 n_neurons=N_NEURONS,\n",
        "                                 n_layers=N_LAYERS,\n",
        "                                 name=\"InitialBlock\")\n",
        "\n",
        "# 2. Create input to stacks\n",
        "stack_input = layers.Input(shape=(INPUT_SIZE), name=\"stack_input\")\n",
        "\n",
        "# 3. Create initial backcast and forecast input (backwards predictions are referred to as residuals in the paper)\n",
        "backcast, forecast = nbeats_block_layer(stack_input)\n",
        "# Add in subtraction residual link, thank you to: https://github.com/mrdbourke/tensorflow-deep-learning/discussions/174 \n",
        "residuals = layers.subtract([stack_input, backcast], name=f\"subtract_00\") \n",
        "\n",
        "# 4. Create stacks of blocks\n",
        "for i, _ in enumerate(range(N_STACKS-1)): # first stack is already creted in (3)\n",
        "\n",
        "  # 5. Use the NBeatsBlock to calculate the backcast as well as block forecast\n",
        "  backcast, block_forecast = NBeatsBlock(\n",
        "      input_size=INPUT_SIZE,\n",
        "      theta_size=THETA_SIZE,\n",
        "      horizon=HORIZON,\n",
        "      n_neurons=N_NEURONS,\n",
        "      n_layers=N_LAYERS,\n",
        "      name=f\"NBeatsBlock_{i}\"\n",
        "  )(residuals) # pass it in residuals (the backcast)\n",
        "\n",
        "  # 6. Create the double residual stacking\n",
        "  residuals = layers.subtract([residuals, backcast], name=f\"subtract_{i}\") \n",
        "  forecast = layers.add([forecast, block_forecast], name=f\"add_{i}\")\n",
        "\n",
        "# 7. Put the stack model together\n",
        "model_4 = tf.keras.Model(inputs=stack_input, \n",
        "                         outputs=forecast, \n",
        "                         name=\"model_4_N-BEATS\")\n",
        "\n",
        "# 8. Compile with MAE loss and Adam optimizer\n",
        "model_4.compile(loss=\"mae\",\n",
        "                optimizer=tf.keras.optimizers.Adam(0.001),\n",
        "                metrics=[\"mae\", \"mse\"])\n",
        "\n",
        "# 9. Fit the model with EarlyStopping and ReduceLROnPlateau callbacks\n",
        "model_4.fit(train_dataset,\n",
        "            epochs=N_EPOCHS,\n",
        "            validation_data=test_dataset,\n",
        "            verbose=0, # prevent large amounts of training outputs\n",
        "            # callbacks=[create_model_checkpoint(model_name=stack_model.name)] # saving model every epoch consumes far too much time\n",
        "            callbacks=[tf.keras.callbacks.EarlyStopping(monitor=\"val_loss\", patience=200, restore_best_weights=True),\n",
        "                      tf.keras.callbacks.ReduceLROnPlateau(monitor=\"val_loss\", patience=100, verbose=1)])\n"
      ],
      "metadata": {
        "colab": {
          "base_uri": "https://localhost:8080/"
        },
        "id": "k1B-7qQ5Sid-",
        "outputId": "0fb06996-793a-4ac9-9fec-f5a58b5e1b68"
      },
      "execution_count": 62,
      "outputs": [
        {
          "output_type": "stream",
          "name": "stdout",
          "text": [
            "\n",
            "Epoch 292: ReduceLROnPlateau reducing learning rate to 0.00010000000474974513.\n",
            "\n",
            "Epoch 392: ReduceLROnPlateau reducing learning rate to 1.0000000474974514e-05.\n",
            "CPU times: user 1min 10s, sys: 1.86 s, total: 1min 11s\n",
            "Wall time: 1min 26s\n"
          ]
        }
      ]
    },
    {
      "cell_type": "code",
      "source": [
        "model_4.evaluate(test_dataset)\n"
      ],
      "metadata": {
        "colab": {
          "base_uri": "https://localhost:8080/"
        },
        "id": "VfP5rkSfTAKs",
        "outputId": "86354df1-a6ce-4eac-c008-b603ddad8041"
      },
      "execution_count": 63,
      "outputs": [
        {
          "output_type": "stream",
          "name": "stdout",
          "text": [
            "1/1 [==============================] - 0s 22ms/step - loss: 1247.3707 - mae: 1247.3707 - mse: 2972920.7500\n"
          ]
        },
        {
          "output_type": "execute_result",
          "data": {
            "text/plain": [
              "[1247.3707275390625, 1247.3707275390625, 2972920.75]"
            ]
          },
          "metadata": {},
          "execution_count": 63
        }
      ]
    },
    {
      "cell_type": "code",
      "source": [
        "# Make predictions with N-BEATS model\n",
        "model_4_preds = make_preds(model_4, test_dataset)\n",
        "model_4_preds[:10]"
      ],
      "metadata": {
        "colab": {
          "base_uri": "https://localhost:8080/"
        },
        "id": "dC6C6QApTZsh",
        "outputId": "052e6679-1a02-4590-d986-8fed7365869d"
      },
      "execution_count": 64,
      "outputs": [
        {
          "output_type": "execute_result",
          "data": {
            "text/plain": [
              "<tf.Tensor: shape=(10,), dtype=float32, numpy=\n",
              "array([12647.258 , 13011.97  , 12992.009 , 13245.507 , 13155.234 ,\n",
              "       13136.693 , 13559.3125, 13366.59  , 13411.673 , 13605.965 ],\n",
              "      dtype=float32)>"
            ]
          },
          "metadata": {},
          "execution_count": 64
        }
      ]
    },
    {
      "cell_type": "code",
      "source": [
        "# Evaluate N-BEATS model predictions\n",
        "model_4_results = evaluate_preds(y_true=y_test,\n",
        "                                 y_pred=model_4_preds)\n",
        "model_4_results"
      ],
      "metadata": {
        "colab": {
          "base_uri": "https://localhost:8080/"
        },
        "id": "XcVVKvA3Td3O",
        "outputId": "bd2bc933-3b39-467f-e605-a3d9ec631e83"
      },
      "execution_count": 65,
      "outputs": [
        {
          "output_type": "execute_result",
          "data": {
            "text/plain": [
              "{'mae': 1247.3707,\n",
              " 'mape': 2.9860656,\n",
              " 'mase': 1.033916,\n",
              " 'mse': 2972920.8,\n",
              " 'rmse': 1724.216}"
            ]
          },
          "metadata": {},
          "execution_count": 65
        }
      ]
    },
    {
      "cell_type": "code",
      "source": [
        "# Compare three simple dense models\n",
        "pd.DataFrame({ \"ARIMA\": ARIMA_results[\"mae\"],\n",
        "              \"horizon_1_window_7\": model_1_results[\"mae\"], \n",
        "              \"CNN\":model_2_results[\"mae\"],\n",
        "              \"multivariate_horizon1_window_7\": model_3_results[\"mae\"],\n",
        "              \"N-BEATS\": model_4_results[\"mae\"]\n",
        "              }, index=[\"mae\"]).plot(figsize=(10, 7), kind=\"bar\");"
      ],
      "metadata": {
        "colab": {
          "base_uri": "https://localhost:8080/",
          "height": 440
        },
        "id": "XR-HPCXYTg5L",
        "outputId": "f6432541-40de-408f-dfe4-225237e81829"
      },
      "execution_count": 66,
      "outputs": [
        {
          "output_type": "display_data",
          "data": {
            "text/plain": [
              "<Figure size 720x504 with 1 Axes>"
            ],
            "image/png": "[encoded data removed]"
          },
          "metadata": {
            "needs_background": "light"
          }
        }
      ]
    }
  ],
  "metadata": {
    "accelerator": "GPU",
    "colab": {
      "name": "timeseries_forecasting.ipynb",
      "provenance": [],
      "authorship_tag": "ABX9TyPi4qCArVnpGthhhx193yAx",
      "include_colab_link": true
    },
    "kernelspec": {
      "display_name": "Python 3",
      "name": "python3"
    },
    "language_info": {
      "name": "python"
    }
  },
  "nbformat": 4,
  "nbformat_minor": 0
}